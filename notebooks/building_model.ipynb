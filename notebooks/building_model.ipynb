{
 "cells": [
  {
   "cell_type": "markdown",
   "metadata": {},
   "source": [
    "# Building the model for the Spam Detector"
   ]
  },
  {
   "cell_type": "markdown",
   "metadata": {},
   "source": [
    "In this project we will use a dataset from Kaggle to create a classifier model to detect when an email is a spam detector or not.\n",
    "\n",
    "For this project we will use some tools from sklearn and pycaret (AutoML) to test several aproaches for the problem"
   ]
  },
  {
   "cell_type": "code",
   "execution_count": 1,
   "metadata": {},
   "outputs": [],
   "source": [
    "# Importando librerias\n",
    "import pandas as pd\n",
    "import numpy as np\n",
    "import matplotlib.pyplot as plt\n",
    "import seaborn as sns"
   ]
  },
  {
   "cell_type": "markdown",
   "metadata": {},
   "source": [
    "# 1.- EDA para el dataset"
   ]
  },
  {
   "cell_type": "code",
   "execution_count": 2,
   "metadata": {},
   "outputs": [],
   "source": [
    "# importando el dataset\n",
    "df = pd.read_csv('../data//raw/spam_ham_dataset.csv')"
   ]
  },
  {
   "cell_type": "code",
   "execution_count": 3,
   "metadata": {},
   "outputs": [
    {
     "data": {
      "text/html": [
       "<div>\n",
       "<style scoped>\n",
       "    .dataframe tbody tr th:only-of-type {\n",
       "        vertical-align: middle;\n",
       "    }\n",
       "\n",
       "    .dataframe tbody tr th {\n",
       "        vertical-align: top;\n",
       "    }\n",
       "\n",
       "    .dataframe thead th {\n",
       "        text-align: right;\n",
       "    }\n",
       "</style>\n",
       "<table border=\"1\" class=\"dataframe\">\n",
       "  <thead>\n",
       "    <tr style=\"text-align: right;\">\n",
       "      <th></th>\n",
       "      <th>Unnamed: 0</th>\n",
       "      <th>label</th>\n",
       "      <th>text</th>\n",
       "      <th>label_num</th>\n",
       "    </tr>\n",
       "  </thead>\n",
       "  <tbody>\n",
       "    <tr>\n",
       "      <th>0</th>\n",
       "      <td>605</td>\n",
       "      <td>ham</td>\n",
       "      <td>Subject: enron methanol ; meter # : 988291\\r\\n...</td>\n",
       "      <td>0</td>\n",
       "    </tr>\n",
       "    <tr>\n",
       "      <th>1</th>\n",
       "      <td>2349</td>\n",
       "      <td>ham</td>\n",
       "      <td>Subject: hpl nom for january 9 , 2001\\r\\n( see...</td>\n",
       "      <td>0</td>\n",
       "    </tr>\n",
       "    <tr>\n",
       "      <th>2</th>\n",
       "      <td>3624</td>\n",
       "      <td>ham</td>\n",
       "      <td>Subject: neon retreat\\r\\nho ho ho , we ' re ar...</td>\n",
       "      <td>0</td>\n",
       "    </tr>\n",
       "    <tr>\n",
       "      <th>3</th>\n",
       "      <td>4685</td>\n",
       "      <td>spam</td>\n",
       "      <td>Subject: photoshop , windows , office . cheap ...</td>\n",
       "      <td>1</td>\n",
       "    </tr>\n",
       "    <tr>\n",
       "      <th>4</th>\n",
       "      <td>2030</td>\n",
       "      <td>ham</td>\n",
       "      <td>Subject: re : indian springs\\r\\nthis deal is t...</td>\n",
       "      <td>0</td>\n",
       "    </tr>\n",
       "  </tbody>\n",
       "</table>\n",
       "</div>"
      ],
      "text/plain": [
       "   Unnamed: 0 label                                               text  \\\n",
       "0         605   ham  Subject: enron methanol ; meter # : 988291\\r\\n...   \n",
       "1        2349   ham  Subject: hpl nom for january 9 , 2001\\r\\n( see...   \n",
       "2        3624   ham  Subject: neon retreat\\r\\nho ho ho , we ' re ar...   \n",
       "3        4685  spam  Subject: photoshop , windows , office . cheap ...   \n",
       "4        2030   ham  Subject: re : indian springs\\r\\nthis deal is t...   \n",
       "\n",
       "   label_num  \n",
       "0          0  \n",
       "1          0  \n",
       "2          0  \n",
       "3          1  \n",
       "4          0  "
      ]
     },
     "execution_count": 3,
     "metadata": {},
     "output_type": "execute_result"
    }
   ],
   "source": [
    "# ¿Qué tiene el dataset?\n",
    "df.head()"
   ]
  },
  {
   "cell_type": "code",
   "execution_count": 4,
   "metadata": {},
   "outputs": [
    {
     "data": {
      "text/plain": [
       "(5171, 4)"
      ]
     },
     "execution_count": 4,
     "metadata": {},
     "output_type": "execute_result"
    }
   ],
   "source": [
    "# ¿Cuántos datos tiene el dataset?\n",
    "df.shape"
   ]
  },
  {
   "cell_type": "code",
   "execution_count": 5,
   "metadata": {},
   "outputs": [
    {
     "name": "stdout",
     "output_type": "stream",
     "text": [
      "<class 'pandas.core.frame.DataFrame'>\n",
      "RangeIndex: 5171 entries, 0 to 5170\n",
      "Data columns (total 4 columns):\n",
      " #   Column      Non-Null Count  Dtype \n",
      "---  ------      --------------  ----- \n",
      " 0   Unnamed: 0  5171 non-null   int64 \n",
      " 1   label       5171 non-null   object\n",
      " 2   text        5171 non-null   object\n",
      " 3   label_num   5171 non-null   int64 \n",
      "dtypes: int64(2), object(2)\n",
      "memory usage: 161.7+ KB\n"
     ]
    }
   ],
   "source": [
    "# ¿Qué tipo de datos tiene el dataset?\n",
    "df.info()"
   ]
  },
  {
   "cell_type": "code",
   "execution_count": 6,
   "metadata": {},
   "outputs": [
    {
     "data": {
      "text/plain": [
       "Unnamed: 0    0\n",
       "label         0\n",
       "text          0\n",
       "label_num     0\n",
       "dtype: int64"
      ]
     },
     "execution_count": 6,
     "metadata": {},
     "output_type": "execute_result"
    }
   ],
   "source": [
    "# ¿Cuántos datos nulos tiene el dataset?\n",
    "df.isnull().sum()"
   ]
  },
  {
   "cell_type": "code",
   "execution_count": 7,
   "metadata": {},
   "outputs": [
    {
     "data": {
      "text/plain": [
       "0"
      ]
     },
     "execution_count": 7,
     "metadata": {},
     "output_type": "execute_result"
    }
   ],
   "source": [
    "# ¿Cuántos datos duplicados tiene el dataset?\n",
    "df.duplicated().sum()"
   ]
  },
  {
   "cell_type": "code",
   "execution_count": 8,
   "metadata": {},
   "outputs": [
    {
     "data": {
      "text/plain": [
       "Unnamed: 0    5171\n",
       "label            2\n",
       "text          4993\n",
       "label_num        2\n",
       "dtype: int64"
      ]
     },
     "execution_count": 8,
     "metadata": {},
     "output_type": "execute_result"
    }
   ],
   "source": [
    "# ¿Cuántos datos únicos tiene el dataset?\n",
    "df.nunique()"
   ]
  },
  {
   "cell_type": "code",
   "execution_count": 9,
   "metadata": {},
   "outputs": [
    {
     "data": {
      "text/plain": [
       "0       False\n",
       "1       False\n",
       "2       False\n",
       "3       False\n",
       "4       False\n",
       "        ...  \n",
       "5166    False\n",
       "5167    False\n",
       "5168    False\n",
       "5169    False\n",
       "5170    False\n",
       "Length: 5171, dtype: bool"
      ]
     },
     "execution_count": 9,
     "metadata": {},
     "output_type": "execute_result"
    }
   ],
   "source": [
    "# ¿Unnamed: 0 es la lontigud de cada elemento de text? No\n",
    "df['Unnamed: 0'] == df['text'].apply(len) "
   ]
  },
  {
   "cell_type": "code",
   "execution_count": 10,
   "metadata": {},
   "outputs": [
    {
     "data": {
      "text/plain": [
       "(2349, 97)"
      ]
     },
     "execution_count": 10,
     "metadata": {},
     "output_type": "execute_result"
    }
   ],
   "source": [
    "df[\"Unnamed: 0\"][1], len(df[\"text\"][1])"
   ]
  },
  {
   "cell_type": "code",
   "execution_count": 11,
   "metadata": {},
   "outputs": [],
   "source": [
    "# ¿Unnamed: 0 es el índice del dataset? Sí\n",
    "df = df.set_index('Unnamed: 0')"
   ]
  },
  {
   "cell_type": "code",
   "execution_count": 12,
   "metadata": {},
   "outputs": [
    {
     "data": {
      "text/html": [
       "<div>\n",
       "<style scoped>\n",
       "    .dataframe tbody tr th:only-of-type {\n",
       "        vertical-align: middle;\n",
       "    }\n",
       "\n",
       "    .dataframe tbody tr th {\n",
       "        vertical-align: top;\n",
       "    }\n",
       "\n",
       "    .dataframe thead th {\n",
       "        text-align: right;\n",
       "    }\n",
       "</style>\n",
       "<table border=\"1\" class=\"dataframe\">\n",
       "  <thead>\n",
       "    <tr style=\"text-align: right;\">\n",
       "      <th></th>\n",
       "      <th>label</th>\n",
       "      <th>text</th>\n",
       "      <th>label_num</th>\n",
       "    </tr>\n",
       "    <tr>\n",
       "      <th>Unnamed: 0</th>\n",
       "      <th></th>\n",
       "      <th></th>\n",
       "      <th></th>\n",
       "    </tr>\n",
       "  </thead>\n",
       "  <tbody>\n",
       "    <tr>\n",
       "      <th>605</th>\n",
       "      <td>ham</td>\n",
       "      <td>Subject: enron methanol ; meter # : 988291\\r\\n...</td>\n",
       "      <td>0</td>\n",
       "    </tr>\n",
       "    <tr>\n",
       "      <th>2349</th>\n",
       "      <td>ham</td>\n",
       "      <td>Subject: hpl nom for january 9 , 2001\\r\\n( see...</td>\n",
       "      <td>0</td>\n",
       "    </tr>\n",
       "    <tr>\n",
       "      <th>3624</th>\n",
       "      <td>ham</td>\n",
       "      <td>Subject: neon retreat\\r\\nho ho ho , we ' re ar...</td>\n",
       "      <td>0</td>\n",
       "    </tr>\n",
       "    <tr>\n",
       "      <th>4685</th>\n",
       "      <td>spam</td>\n",
       "      <td>Subject: photoshop , windows , office . cheap ...</td>\n",
       "      <td>1</td>\n",
       "    </tr>\n",
       "    <tr>\n",
       "      <th>2030</th>\n",
       "      <td>ham</td>\n",
       "      <td>Subject: re : indian springs\\r\\nthis deal is t...</td>\n",
       "      <td>0</td>\n",
       "    </tr>\n",
       "  </tbody>\n",
       "</table>\n",
       "</div>"
      ],
      "text/plain": [
       "           label                                               text  label_num\n",
       "Unnamed: 0                                                                    \n",
       "605          ham  Subject: enron methanol ; meter # : 988291\\r\\n...          0\n",
       "2349         ham  Subject: hpl nom for january 9 , 2001\\r\\n( see...          0\n",
       "3624         ham  Subject: neon retreat\\r\\nho ho ho , we ' re ar...          0\n",
       "4685        spam  Subject: photoshop , windows , office . cheap ...          1\n",
       "2030         ham  Subject: re : indian springs\\r\\nthis deal is t...          0"
      ]
     },
     "execution_count": 12,
     "metadata": {},
     "output_type": "execute_result"
    }
   ],
   "source": [
    "df.head()"
   ]
  },
  {
   "cell_type": "code",
   "execution_count": 13,
   "metadata": {},
   "outputs": [
    {
     "data": {
      "text/plain": [
       "ham     3672\n",
       "spam    1499\n",
       "Name: label, dtype: int64"
      ]
     },
     "execution_count": 13,
     "metadata": {},
     "output_type": "execute_result"
    }
   ],
   "source": [
    "# ¿Cuál es la distribución de los datos?\n",
    "df['label'].value_counts()"
   ]
  },
  {
   "cell_type": "code",
   "execution_count": 14,
   "metadata": {},
   "outputs": [
    {
     "data": {
      "text/plain": [
       "ham     0.710114\n",
       "spam    0.289886\n",
       "Name: label, dtype: float64"
      ]
     },
     "execution_count": 14,
     "metadata": {},
     "output_type": "execute_result"
    }
   ],
   "source": [
    "df['label'].value_counts(normalize=True)"
   ]
  },
  {
   "cell_type": "code",
   "execution_count": 15,
   "metadata": {},
   "outputs": [
    {
     "data": {
      "text/plain": [
       "<AxesSubplot: >"
      ]
     },
     "execution_count": 15,
     "metadata": {},
     "output_type": "execute_result"
    },
    {
     "data": {
      "image/png": "[encoded data removed]",
      "text/plain": [
       "<Figure size 640x480 with 1 Axes>"
      ]
     },
     "metadata": {},
     "output_type": "display_data"
    }
   ],
   "source": [
    "df[\"label\"].value_counts().plot(kind='bar')\n",
    "# La distribución de los datos es desbalanceada"
   ]
  },
  {
   "cell_type": "markdown",
   "metadata": {},
   "source": [
    "# 2.- Pre processing data"
   ]
  },
  {
   "cell_type": "code",
   "execution_count": 16,
   "metadata": {},
   "outputs": [
    {
     "name": "stderr",
     "output_type": "stream",
     "text": [
      "[nltk_data] Downloading package punkt to /home/pedro/nltk_data...\n",
      "[nltk_data]   Package punkt is already up-to-date!\n",
      "[nltk_data] Downloading package stopwords to /home/pedro/nltk_data...\n",
      "[nltk_data]   Package stopwords is already up-to-date!\n"
     ]
    }
   ],
   "source": [
    "\n",
    "import nltk\n",
    "nltk.download('punkt')\n",
    "nltk.download('stopwords')\n",
    "from nltk.corpus import stopwords\n",
    "from nltk.tokenize import word_tokenize\n",
    "from nltk.stem import PorterStemmer\n"
   ]
  },
  {
   "cell_type": "code",
   "execution_count": 17,
   "metadata": {},
   "outputs": [],
   "source": [
    "import re\n",
    "\n",
    "def extract_alphanumeric(text):\n",
    "    return \" \".join(re.findall(r'\\w+', text))\n"
   ]
  },
  {
   "cell_type": "code",
   "execution_count": 18,
   "metadata": {},
   "outputs": [],
   "source": [
    "# Limpiando el texto\n",
    "df_clean = df.copy()\n",
    "df_clean['text'] = df_clean['text'].apply(lambda x: x.lower())\n",
    "df_clean['text'] = df_clean['text'].apply(extract_alphanumeric)"
   ]
  },
  {
   "cell_type": "code",
   "execution_count": 19,
   "metadata": {},
   "outputs": [
    {
     "data": {
      "text/plain": [
       "Unnamed: 0\n",
       "605     subject enron methanol meter 988291 this is a ...\n",
       "2349    subject hpl nom for january 9 2001 see attache...\n",
       "3624    subject neon retreat ho ho ho we re around to ...\n",
       "4685    subject photoshop windows office cheap main tr...\n",
       "2030    subject re indian springs this deal is to book...\n",
       "                              ...                        \n",
       "1518    subject put the 10 on the ft the transport vol...\n",
       "404     subject 3 4 2000 and following noms hpl can t ...\n",
       "2933    subject calpine daily gas nomination julie as ...\n",
       "1409    subject industrial worksheets for august 2000 ...\n",
       "4807    subject important online banking alert dear va...\n",
       "Name: text, Length: 5171, dtype: object"
      ]
     },
     "execution_count": 19,
     "metadata": {},
     "output_type": "execute_result"
    }
   ],
   "source": [
    "df_clean['text']"
   ]
  },
  {
   "cell_type": "code",
   "execution_count": 20,
   "metadata": {},
   "outputs": [],
   "source": [
    "# tokenizando el texto\n",
    "df_clean['text'] = df_clean['text'].apply(word_tokenize).apply(lambda x: ' '.join(x))"
   ]
  },
  {
   "cell_type": "code",
   "execution_count": 21,
   "metadata": {},
   "outputs": [
    {
     "data": {
      "text/plain": [
       "'subject christmas tree farm pictures'"
      ]
     },
     "execution_count": 21,
     "metadata": {},
     "output_type": "execute_result"
    }
   ],
   "source": [
    "df_clean['text'][0]"
   ]
  },
  {
   "cell_type": "code",
   "execution_count": 24,
   "metadata": {},
   "outputs": [],
   "source": [
    "df_target = df_clean[['text','label_num']].copy()"
   ]
  },
  {
   "cell_type": "code",
   "execution_count": 25,
   "metadata": {},
   "outputs": [],
   "source": [
    "from sklearn.model_selection import train_test_split\n",
    "\n",
    "# Splitting the dataset into training and test datasets\n",
    "X = df_target['text']\n",
    "y = df_target['label_num']\n",
    "X_train, X_test, y_train, y_test = train_test_split(X, y, test_size=0.25, random_state=42)\n"
   ]
  },
  {
   "cell_type": "code",
   "execution_count": 30,
   "metadata": {},
   "outputs": [],
   "source": [
    "df_target_train = pd.concat([X_train, y_train], axis=1)\n",
    "df_target_test = pd.concat([X_test, y_test], axis=1)"
   ]
  },
  {
   "cell_type": "code",
   "execution_count": 33,
   "metadata": {},
   "outputs": [
    {
     "data": {
      "text/plain": [
       "((1293, 2), (3878, 2))"
      ]
     },
     "execution_count": 33,
     "metadata": {},
     "output_type": "execute_result"
    }
   ],
   "source": [
    "df_target_test.shape, df_target_train.shape"
   ]
  },
  {
   "cell_type": "markdown",
   "metadata": {},
   "source": [
    "# 3.- Chosing a model"
   ]
  },
  {
   "cell_type": "code",
   "execution_count": 34,
   "metadata": {},
   "outputs": [
    {
     "data": {
      "text/html": [
       "<style type=\"text/css\">\n",
       "#T_32774_row8_col1 {\n",
       "  background-color: lightgreen;\n",
       "}\n",
       "</style>\n",
       "<table id=\"T_32774\">\n",
       "  <thead>\n",
       "    <tr>\n",
       "      <th class=\"blank level0\" >&nbsp;</th>\n",
       "      <th id=\"T_32774_level0_col0\" class=\"col_heading level0 col0\" >Description</th>\n",
       "      <th id=\"T_32774_level0_col1\" class=\"col_heading level0 col1\" >Value</th>\n",
       "    </tr>\n",
       "  </thead>\n",
       "  <tbody>\n",
       "    <tr>\n",
       "      <th id=\"T_32774_level0_row0\" class=\"row_heading level0 row0\" >0</th>\n",
       "      <td id=\"T_32774_row0_col0\" class=\"data row0 col0\" >Session id</td>\n",
       "      <td id=\"T_32774_row0_col1\" class=\"data row0 col1\" >42</td>\n",
       "    </tr>\n",
       "    <tr>\n",
       "      <th id=\"T_32774_level0_row1\" class=\"row_heading level0 row1\" >1</th>\n",
       "      <td id=\"T_32774_row1_col0\" class=\"data row1 col0\" >Target</td>\n",
       "      <td id=\"T_32774_row1_col1\" class=\"data row1 col1\" >label_num</td>\n",
       "    </tr>\n",
       "    <tr>\n",
       "      <th id=\"T_32774_level0_row2\" class=\"row_heading level0 row2\" >2</th>\n",
       "      <td id=\"T_32774_row2_col0\" class=\"data row2 col0\" >Target type</td>\n",
       "      <td id=\"T_32774_row2_col1\" class=\"data row2 col1\" >Binary</td>\n",
       "    </tr>\n",
       "    <tr>\n",
       "      <th id=\"T_32774_level0_row3\" class=\"row_heading level0 row3\" >3</th>\n",
       "      <td id=\"T_32774_row3_col0\" class=\"data row3 col0\" >Original data shape</td>\n",
       "      <td id=\"T_32774_row3_col1\" class=\"data row3 col1\" >(5171, 2)</td>\n",
       "    </tr>\n",
       "    <tr>\n",
       "      <th id=\"T_32774_level0_row4\" class=\"row_heading level0 row4\" >4</th>\n",
       "      <td id=\"T_32774_row4_col0\" class=\"data row4 col0\" >Transformed data shape</td>\n",
       "      <td id=\"T_32774_row4_col1\" class=\"data row4 col1\" >(5171, 2)</td>\n",
       "    </tr>\n",
       "    <tr>\n",
       "      <th id=\"T_32774_level0_row5\" class=\"row_heading level0 row5\" >5</th>\n",
       "      <td id=\"T_32774_row5_col0\" class=\"data row5 col0\" >Transformed train set shape</td>\n",
       "      <td id=\"T_32774_row5_col1\" class=\"data row5 col1\" >(3878, 2)</td>\n",
       "    </tr>\n",
       "    <tr>\n",
       "      <th id=\"T_32774_level0_row6\" class=\"row_heading level0 row6\" >6</th>\n",
       "      <td id=\"T_32774_row6_col0\" class=\"data row6 col0\" >Transformed test set shape</td>\n",
       "      <td id=\"T_32774_row6_col1\" class=\"data row6 col1\" >(1293, 2)</td>\n",
       "    </tr>\n",
       "    <tr>\n",
       "      <th id=\"T_32774_level0_row7\" class=\"row_heading level0 row7\" >7</th>\n",
       "      <td id=\"T_32774_row7_col0\" class=\"data row7 col0\" >Categorical features</td>\n",
       "      <td id=\"T_32774_row7_col1\" class=\"data row7 col1\" >1</td>\n",
       "    </tr>\n",
       "    <tr>\n",
       "      <th id=\"T_32774_level0_row8\" class=\"row_heading level0 row8\" >8</th>\n",
       "      <td id=\"T_32774_row8_col0\" class=\"data row8 col0\" >Preprocess</td>\n",
       "      <td id=\"T_32774_row8_col1\" class=\"data row8 col1\" >True</td>\n",
       "    </tr>\n",
       "    <tr>\n",
       "      <th id=\"T_32774_level0_row9\" class=\"row_heading level0 row9\" >9</th>\n",
       "      <td id=\"T_32774_row9_col0\" class=\"data row9 col0\" >Imputation type</td>\n",
       "      <td id=\"T_32774_row9_col1\" class=\"data row9 col1\" >simple</td>\n",
       "    </tr>\n",
       "    <tr>\n",
       "      <th id=\"T_32774_level0_row10\" class=\"row_heading level0 row10\" >10</th>\n",
       "      <td id=\"T_32774_row10_col0\" class=\"data row10 col0\" >Numeric imputation</td>\n",
       "      <td id=\"T_32774_row10_col1\" class=\"data row10 col1\" >mean</td>\n",
       "    </tr>\n",
       "    <tr>\n",
       "      <th id=\"T_32774_level0_row11\" class=\"row_heading level0 row11\" >11</th>\n",
       "      <td id=\"T_32774_row11_col0\" class=\"data row11 col0\" >Categorical imputation</td>\n",
       "      <td id=\"T_32774_row11_col1\" class=\"data row11 col1\" >mode</td>\n",
       "    </tr>\n",
       "    <tr>\n",
       "      <th id=\"T_32774_level0_row12\" class=\"row_heading level0 row12\" >12</th>\n",
       "      <td id=\"T_32774_row12_col0\" class=\"data row12 col0\" >Maximum one-hot encoding</td>\n",
       "      <td id=\"T_32774_row12_col1\" class=\"data row12 col1\" >25</td>\n",
       "    </tr>\n",
       "    <tr>\n",
       "      <th id=\"T_32774_level0_row13\" class=\"row_heading level0 row13\" >13</th>\n",
       "      <td id=\"T_32774_row13_col0\" class=\"data row13 col0\" >Encoding method</td>\n",
       "      <td id=\"T_32774_row13_col1\" class=\"data row13 col1\" >None</td>\n",
       "    </tr>\n",
       "    <tr>\n",
       "      <th id=\"T_32774_level0_row14\" class=\"row_heading level0 row14\" >14</th>\n",
       "      <td id=\"T_32774_row14_col0\" class=\"data row14 col0\" >Fold Generator</td>\n",
       "      <td id=\"T_32774_row14_col1\" class=\"data row14 col1\" >StratifiedKFold</td>\n",
       "    </tr>\n",
       "    <tr>\n",
       "      <th id=\"T_32774_level0_row15\" class=\"row_heading level0 row15\" >15</th>\n",
       "      <td id=\"T_32774_row15_col0\" class=\"data row15 col0\" >Fold Number</td>\n",
       "      <td id=\"T_32774_row15_col1\" class=\"data row15 col1\" >10</td>\n",
       "    </tr>\n",
       "    <tr>\n",
       "      <th id=\"T_32774_level0_row16\" class=\"row_heading level0 row16\" >16</th>\n",
       "      <td id=\"T_32774_row16_col0\" class=\"data row16 col0\" >CPU Jobs</td>\n",
       "      <td id=\"T_32774_row16_col1\" class=\"data row16 col1\" >-1</td>\n",
       "    </tr>\n",
       "    <tr>\n",
       "      <th id=\"T_32774_level0_row17\" class=\"row_heading level0 row17\" >17</th>\n",
       "      <td id=\"T_32774_row17_col0\" class=\"data row17 col0\" >Use GPU</td>\n",
       "      <td id=\"T_32774_row17_col1\" class=\"data row17 col1\" >False</td>\n",
       "    </tr>\n",
       "    <tr>\n",
       "      <th id=\"T_32774_level0_row18\" class=\"row_heading level0 row18\" >18</th>\n",
       "      <td id=\"T_32774_row18_col0\" class=\"data row18 col0\" >Log Experiment</td>\n",
       "      <td id=\"T_32774_row18_col1\" class=\"data row18 col1\" >MlflowLogger</td>\n",
       "    </tr>\n",
       "    <tr>\n",
       "      <th id=\"T_32774_level0_row19\" class=\"row_heading level0 row19\" >19</th>\n",
       "      <td id=\"T_32774_row19_col0\" class=\"data row19 col0\" >Experiment Name</td>\n",
       "      <td id=\"T_32774_row19_col1\" class=\"data row19 col1\" >spam_classification</td>\n",
       "    </tr>\n",
       "    <tr>\n",
       "      <th id=\"T_32774_level0_row20\" class=\"row_heading level0 row20\" >20</th>\n",
       "      <td id=\"T_32774_row20_col0\" class=\"data row20 col0\" >USI</td>\n",
       "      <td id=\"T_32774_row20_col1\" class=\"data row20 col1\" >af7a</td>\n",
       "    </tr>\n",
       "  </tbody>\n",
       "</table>\n"
      ],
      "text/plain": [
       "<pandas.io.formats.style.Styler at 0x7f47ff90afa0>"
      ]
     },
     "metadata": {},
     "output_type": "display_data"
    },
    {
     "data": {
      "text/html": [],
      "text/plain": [
       "<IPython.core.display.HTML object>"
      ]
     },
     "metadata": {},
     "output_type": "display_data"
    },
    {
     "data": {
      "text/html": [
       "<style type=\"text/css\">\n",
       "#T_cc9f7 th {\n",
       "  text-align: left;\n",
       "}\n",
       "#T_cc9f7_row0_col0, #T_cc9f7_row0_col3, #T_cc9f7_row0_col5, #T_cc9f7_row0_col6, #T_cc9f7_row0_col7, #T_cc9f7_row1_col0, #T_cc9f7_row1_col2, #T_cc9f7_row1_col3, #T_cc9f7_row1_col5, #T_cc9f7_row1_col6, #T_cc9f7_row1_col7, #T_cc9f7_row2_col0, #T_cc9f7_row2_col2, #T_cc9f7_row2_col3, #T_cc9f7_row2_col5, #T_cc9f7_row2_col6, #T_cc9f7_row2_col7, #T_cc9f7_row3_col0, #T_cc9f7_row3_col2, #T_cc9f7_row3_col3, #T_cc9f7_row3_col5, #T_cc9f7_row3_col6, #T_cc9f7_row3_col7, #T_cc9f7_row4_col0, #T_cc9f7_row4_col2, #T_cc9f7_row4_col3, #T_cc9f7_row4_col5, #T_cc9f7_row4_col6, #T_cc9f7_row4_col7, #T_cc9f7_row5_col0, #T_cc9f7_row5_col2, #T_cc9f7_row5_col3, #T_cc9f7_row5_col5, #T_cc9f7_row5_col6, #T_cc9f7_row5_col7, #T_cc9f7_row6_col0, #T_cc9f7_row6_col2, #T_cc9f7_row6_col3, #T_cc9f7_row6_col5, #T_cc9f7_row6_col6, #T_cc9f7_row6_col7, #T_cc9f7_row7_col0, #T_cc9f7_row7_col2, #T_cc9f7_row7_col3, #T_cc9f7_row7_col5, #T_cc9f7_row7_col6, #T_cc9f7_row7_col7, #T_cc9f7_row8_col0, #T_cc9f7_row8_col3, #T_cc9f7_row8_col5, #T_cc9f7_row8_col6, #T_cc9f7_row8_col7, #T_cc9f7_row9_col0, #T_cc9f7_row9_col3, #T_cc9f7_row9_col5, #T_cc9f7_row9_col6, #T_cc9f7_row9_col7, #T_cc9f7_row10_col0, #T_cc9f7_row10_col2, #T_cc9f7_row10_col3, #T_cc9f7_row10_col5, #T_cc9f7_row10_col6, #T_cc9f7_row10_col7, #T_cc9f7_row11_col0, #T_cc9f7_row11_col1, #T_cc9f7_row11_col2, #T_cc9f7_row11_col3, #T_cc9f7_row11_col4, #T_cc9f7_row11_col5, #T_cc9f7_row11_col6, #T_cc9f7_row11_col7, #T_cc9f7_row12_col0, #T_cc9f7_row12_col1, #T_cc9f7_row12_col2, #T_cc9f7_row12_col4, #T_cc9f7_row13_col0, #T_cc9f7_row13_col1, #T_cc9f7_row13_col2, #T_cc9f7_row13_col4 {\n",
       "  text-align: left;\n",
       "}\n",
       "#T_cc9f7_row0_col1, #T_cc9f7_row0_col2, #T_cc9f7_row0_col4, #T_cc9f7_row1_col1, #T_cc9f7_row1_col4, #T_cc9f7_row2_col1, #T_cc9f7_row2_col4, #T_cc9f7_row3_col1, #T_cc9f7_row3_col4, #T_cc9f7_row4_col1, #T_cc9f7_row4_col4, #T_cc9f7_row5_col1, #T_cc9f7_row5_col4, #T_cc9f7_row6_col1, #T_cc9f7_row6_col4, #T_cc9f7_row7_col1, #T_cc9f7_row7_col4, #T_cc9f7_row8_col1, #T_cc9f7_row8_col2, #T_cc9f7_row8_col4, #T_cc9f7_row9_col1, #T_cc9f7_row9_col2, #T_cc9f7_row9_col4, #T_cc9f7_row10_col1, #T_cc9f7_row10_col4, #T_cc9f7_row12_col3, #T_cc9f7_row12_col5, #T_cc9f7_row12_col6, #T_cc9f7_row12_col7, #T_cc9f7_row13_col3, #T_cc9f7_row13_col5, #T_cc9f7_row13_col6, #T_cc9f7_row13_col7 {\n",
       "  text-align: left;\n",
       "  background-color: yellow;\n",
       "}\n",
       "#T_cc9f7_row0_col8, #T_cc9f7_row1_col8, #T_cc9f7_row2_col8, #T_cc9f7_row5_col8, #T_cc9f7_row6_col8, #T_cc9f7_row7_col8, #T_cc9f7_row8_col8, #T_cc9f7_row9_col8, #T_cc9f7_row10_col8 {\n",
       "  text-align: left;\n",
       "  background-color: lightgrey;\n",
       "}\n",
       "#T_cc9f7_row3_col8, #T_cc9f7_row4_col8, #T_cc9f7_row11_col8, #T_cc9f7_row12_col8, #T_cc9f7_row13_col8 {\n",
       "  text-align: left;\n",
       "  background-color: yellow;\n",
       "  background-color: lightgrey;\n",
       "}\n",
       "</style>\n",
       "<table id=\"T_cc9f7\">\n",
       "  <thead>\n",
       "    <tr>\n",
       "      <th class=\"blank level0\" >&nbsp;</th>\n",
       "      <th id=\"T_cc9f7_level0_col0\" class=\"col_heading level0 col0\" >Model</th>\n",
       "      <th id=\"T_cc9f7_level0_col1\" class=\"col_heading level0 col1\" >Accuracy</th>\n",
       "      <th id=\"T_cc9f7_level0_col2\" class=\"col_heading level0 col2\" >AUC</th>\n",
       "      <th id=\"T_cc9f7_level0_col3\" class=\"col_heading level0 col3\" >Recall</th>\n",
       "      <th id=\"T_cc9f7_level0_col4\" class=\"col_heading level0 col4\" >Prec.</th>\n",
       "      <th id=\"T_cc9f7_level0_col5\" class=\"col_heading level0 col5\" >F1</th>\n",
       "      <th id=\"T_cc9f7_level0_col6\" class=\"col_heading level0 col6\" >Kappa</th>\n",
       "      <th id=\"T_cc9f7_level0_col7\" class=\"col_heading level0 col7\" >MCC</th>\n",
       "      <th id=\"T_cc9f7_level0_col8\" class=\"col_heading level0 col8\" >TT (Sec)</th>\n",
       "    </tr>\n",
       "  </thead>\n",
       "  <tbody>\n",
       "    <tr>\n",
       "      <th id=\"T_cc9f7_level0_row0\" class=\"row_heading level0 row0\" >lr</th>\n",
       "      <td id=\"T_cc9f7_row0_col0\" class=\"data row0 col0\" >Logistic Regression</td>\n",
       "      <td id=\"T_cc9f7_row0_col1\" class=\"data row0 col1\" >0.7171</td>\n",
       "      <td id=\"T_cc9f7_row0_col2\" class=\"data row0 col2\" >0.5598</td>\n",
       "      <td id=\"T_cc9f7_row0_col3\" class=\"data row0 col3\" >0.0344</td>\n",
       "      <td id=\"T_cc9f7_row0_col4\" class=\"data row0 col4\" >1.0000</td>\n",
       "      <td id=\"T_cc9f7_row0_col5\" class=\"data row0 col5\" >0.0660</td>\n",
       "      <td id=\"T_cc9f7_row0_col6\" class=\"data row0 col6\" >0.0478</td>\n",
       "      <td id=\"T_cc9f7_row0_col7\" class=\"data row0 col7\" >0.1518</td>\n",
       "      <td id=\"T_cc9f7_row0_col8\" class=\"data row0 col8\" >0.4970</td>\n",
       "    </tr>\n",
       "    <tr>\n",
       "      <th id=\"T_cc9f7_level0_row1\" class=\"row_heading level0 row1\" >knn</th>\n",
       "      <td id=\"T_cc9f7_row1_col0\" class=\"data row1 col0\" >K Neighbors Classifier</td>\n",
       "      <td id=\"T_cc9f7_row1_col1\" class=\"data row1 col1\" >0.7171</td>\n",
       "      <td id=\"T_cc9f7_row1_col2\" class=\"data row1 col2\" >0.5172</td>\n",
       "      <td id=\"T_cc9f7_row1_col3\" class=\"data row1 col3\" >0.0344</td>\n",
       "      <td id=\"T_cc9f7_row1_col4\" class=\"data row1 col4\" >1.0000</td>\n",
       "      <td id=\"T_cc9f7_row1_col5\" class=\"data row1 col5\" >0.0660</td>\n",
       "      <td id=\"T_cc9f7_row1_col6\" class=\"data row1 col6\" >0.0478</td>\n",
       "      <td id=\"T_cc9f7_row1_col7\" class=\"data row1 col7\" >0.1518</td>\n",
       "      <td id=\"T_cc9f7_row1_col8\" class=\"data row1 col8\" >0.0550</td>\n",
       "    </tr>\n",
       "    <tr>\n",
       "      <th id=\"T_cc9f7_level0_row2\" class=\"row_heading level0 row2\" >dt</th>\n",
       "      <td id=\"T_cc9f7_row2_col0\" class=\"data row2 col0\" >Decision Tree Classifier</td>\n",
       "      <td id=\"T_cc9f7_row2_col1\" class=\"data row2 col1\" >0.7171</td>\n",
       "      <td id=\"T_cc9f7_row2_col2\" class=\"data row2 col2\" >0.5172</td>\n",
       "      <td id=\"T_cc9f7_row2_col3\" class=\"data row2 col3\" >0.0344</td>\n",
       "      <td id=\"T_cc9f7_row2_col4\" class=\"data row2 col4\" >1.0000</td>\n",
       "      <td id=\"T_cc9f7_row2_col5\" class=\"data row2 col5\" >0.0660</td>\n",
       "      <td id=\"T_cc9f7_row2_col6\" class=\"data row2 col6\" >0.0478</td>\n",
       "      <td id=\"T_cc9f7_row2_col7\" class=\"data row2 col7\" >0.1518</td>\n",
       "      <td id=\"T_cc9f7_row2_col8\" class=\"data row2 col8\" >0.0310</td>\n",
       "    </tr>\n",
       "    <tr>\n",
       "      <th id=\"T_cc9f7_level0_row3\" class=\"row_heading level0 row3\" >svm</th>\n",
       "      <td id=\"T_cc9f7_row3_col0\" class=\"data row3 col0\" >SVM - Linear Kernel</td>\n",
       "      <td id=\"T_cc9f7_row3_col1\" class=\"data row3 col1\" >0.7171</td>\n",
       "      <td id=\"T_cc9f7_row3_col2\" class=\"data row3 col2\" >0.0000</td>\n",
       "      <td id=\"T_cc9f7_row3_col3\" class=\"data row3 col3\" >0.0344</td>\n",
       "      <td id=\"T_cc9f7_row3_col4\" class=\"data row3 col4\" >1.0000</td>\n",
       "      <td id=\"T_cc9f7_row3_col5\" class=\"data row3 col5\" >0.0660</td>\n",
       "      <td id=\"T_cc9f7_row3_col6\" class=\"data row3 col6\" >0.0478</td>\n",
       "      <td id=\"T_cc9f7_row3_col7\" class=\"data row3 col7\" >0.1518</td>\n",
       "      <td id=\"T_cc9f7_row3_col8\" class=\"data row3 col8\" >0.0270</td>\n",
       "    </tr>\n",
       "    <tr>\n",
       "      <th id=\"T_cc9f7_level0_row4\" class=\"row_heading level0 row4\" >ridge</th>\n",
       "      <td id=\"T_cc9f7_row4_col0\" class=\"data row4 col0\" >Ridge Classifier</td>\n",
       "      <td id=\"T_cc9f7_row4_col1\" class=\"data row4 col1\" >0.7171</td>\n",
       "      <td id=\"T_cc9f7_row4_col2\" class=\"data row4 col2\" >0.0000</td>\n",
       "      <td id=\"T_cc9f7_row4_col3\" class=\"data row4 col3\" >0.0344</td>\n",
       "      <td id=\"T_cc9f7_row4_col4\" class=\"data row4 col4\" >1.0000</td>\n",
       "      <td id=\"T_cc9f7_row4_col5\" class=\"data row4 col5\" >0.0660</td>\n",
       "      <td id=\"T_cc9f7_row4_col6\" class=\"data row4 col6\" >0.0478</td>\n",
       "      <td id=\"T_cc9f7_row4_col7\" class=\"data row4 col7\" >0.1518</td>\n",
       "      <td id=\"T_cc9f7_row4_col8\" class=\"data row4 col8\" >0.0270</td>\n",
       "    </tr>\n",
       "    <tr>\n",
       "      <th id=\"T_cc9f7_level0_row5\" class=\"row_heading level0 row5\" >rf</th>\n",
       "      <td id=\"T_cc9f7_row5_col0\" class=\"data row5 col0\" >Random Forest Classifier</td>\n",
       "      <td id=\"T_cc9f7_row5_col1\" class=\"data row5 col1\" >0.7171</td>\n",
       "      <td id=\"T_cc9f7_row5_col2\" class=\"data row5 col2\" >0.5172</td>\n",
       "      <td id=\"T_cc9f7_row5_col3\" class=\"data row5 col3\" >0.0344</td>\n",
       "      <td id=\"T_cc9f7_row5_col4\" class=\"data row5 col4\" >1.0000</td>\n",
       "      <td id=\"T_cc9f7_row5_col5\" class=\"data row5 col5\" >0.0660</td>\n",
       "      <td id=\"T_cc9f7_row5_col6\" class=\"data row5 col6\" >0.0478</td>\n",
       "      <td id=\"T_cc9f7_row5_col7\" class=\"data row5 col7\" >0.1518</td>\n",
       "      <td id=\"T_cc9f7_row5_col8\" class=\"data row5 col8\" >0.1450</td>\n",
       "    </tr>\n",
       "    <tr>\n",
       "      <th id=\"T_cc9f7_level0_row6\" class=\"row_heading level0 row6\" >ada</th>\n",
       "      <td id=\"T_cc9f7_row6_col0\" class=\"data row6 col0\" >Ada Boost Classifier</td>\n",
       "      <td id=\"T_cc9f7_row6_col1\" class=\"data row6 col1\" >0.7171</td>\n",
       "      <td id=\"T_cc9f7_row6_col2\" class=\"data row6 col2\" >0.5172</td>\n",
       "      <td id=\"T_cc9f7_row6_col3\" class=\"data row6 col3\" >0.0344</td>\n",
       "      <td id=\"T_cc9f7_row6_col4\" class=\"data row6 col4\" >1.0000</td>\n",
       "      <td id=\"T_cc9f7_row6_col5\" class=\"data row6 col5\" >0.0660</td>\n",
       "      <td id=\"T_cc9f7_row6_col6\" class=\"data row6 col6\" >0.0478</td>\n",
       "      <td id=\"T_cc9f7_row6_col7\" class=\"data row6 col7\" >0.1518</td>\n",
       "      <td id=\"T_cc9f7_row6_col8\" class=\"data row6 col8\" >0.0290</td>\n",
       "    </tr>\n",
       "    <tr>\n",
       "      <th id=\"T_cc9f7_level0_row7\" class=\"row_heading level0 row7\" >gbc</th>\n",
       "      <td id=\"T_cc9f7_row7_col0\" class=\"data row7 col0\" >Gradient Boosting Classifier</td>\n",
       "      <td id=\"T_cc9f7_row7_col1\" class=\"data row7 col1\" >0.7171</td>\n",
       "      <td id=\"T_cc9f7_row7_col2\" class=\"data row7 col2\" >0.5167</td>\n",
       "      <td id=\"T_cc9f7_row7_col3\" class=\"data row7 col3\" >0.0344</td>\n",
       "      <td id=\"T_cc9f7_row7_col4\" class=\"data row7 col4\" >1.0000</td>\n",
       "      <td id=\"T_cc9f7_row7_col5\" class=\"data row7 col5\" >0.0660</td>\n",
       "      <td id=\"T_cc9f7_row7_col6\" class=\"data row7 col6\" >0.0478</td>\n",
       "      <td id=\"T_cc9f7_row7_col7\" class=\"data row7 col7\" >0.1518</td>\n",
       "      <td id=\"T_cc9f7_row7_col8\" class=\"data row7 col8\" >0.0550</td>\n",
       "    </tr>\n",
       "    <tr>\n",
       "      <th id=\"T_cc9f7_level0_row8\" class=\"row_heading level0 row8\" >lda</th>\n",
       "      <td id=\"T_cc9f7_row8_col0\" class=\"data row8 col0\" >Linear Discriminant Analysis</td>\n",
       "      <td id=\"T_cc9f7_row8_col1\" class=\"data row8 col1\" >0.7171</td>\n",
       "      <td id=\"T_cc9f7_row8_col2\" class=\"data row8 col2\" >0.5598</td>\n",
       "      <td id=\"T_cc9f7_row8_col3\" class=\"data row8 col3\" >0.0344</td>\n",
       "      <td id=\"T_cc9f7_row8_col4\" class=\"data row8 col4\" >1.0000</td>\n",
       "      <td id=\"T_cc9f7_row8_col5\" class=\"data row8 col5\" >0.0660</td>\n",
       "      <td id=\"T_cc9f7_row8_col6\" class=\"data row8 col6\" >0.0478</td>\n",
       "      <td id=\"T_cc9f7_row8_col7\" class=\"data row8 col7\" >0.1518</td>\n",
       "      <td id=\"T_cc9f7_row8_col8\" class=\"data row8 col8\" >0.0280</td>\n",
       "    </tr>\n",
       "    <tr>\n",
       "      <th id=\"T_cc9f7_level0_row9\" class=\"row_heading level0 row9\" >et</th>\n",
       "      <td id=\"T_cc9f7_row9_col0\" class=\"data row9 col0\" >Extra Trees Classifier</td>\n",
       "      <td id=\"T_cc9f7_row9_col1\" class=\"data row9 col1\" >0.7171</td>\n",
       "      <td id=\"T_cc9f7_row9_col2\" class=\"data row9 col2\" >0.5598</td>\n",
       "      <td id=\"T_cc9f7_row9_col3\" class=\"data row9 col3\" >0.0344</td>\n",
       "      <td id=\"T_cc9f7_row9_col4\" class=\"data row9 col4\" >1.0000</td>\n",
       "      <td id=\"T_cc9f7_row9_col5\" class=\"data row9 col5\" >0.0660</td>\n",
       "      <td id=\"T_cc9f7_row9_col6\" class=\"data row9 col6\" >0.0478</td>\n",
       "      <td id=\"T_cc9f7_row9_col7\" class=\"data row9 col7\" >0.1518</td>\n",
       "      <td id=\"T_cc9f7_row9_col8\" class=\"data row9 col8\" >0.1320</td>\n",
       "    </tr>\n",
       "    <tr>\n",
       "      <th id=\"T_cc9f7_level0_row10\" class=\"row_heading level0 row10\" >lightgbm</th>\n",
       "      <td id=\"T_cc9f7_row10_col0\" class=\"data row10 col0\" >Light Gradient Boosting Machine</td>\n",
       "      <td id=\"T_cc9f7_row10_col1\" class=\"data row10 col1\" >0.7171</td>\n",
       "      <td id=\"T_cc9f7_row10_col2\" class=\"data row10 col2\" >0.5140</td>\n",
       "      <td id=\"T_cc9f7_row10_col3\" class=\"data row10 col3\" >0.0344</td>\n",
       "      <td id=\"T_cc9f7_row10_col4\" class=\"data row10 col4\" >1.0000</td>\n",
       "      <td id=\"T_cc9f7_row10_col5\" class=\"data row10 col5\" >0.0660</td>\n",
       "      <td id=\"T_cc9f7_row10_col6\" class=\"data row10 col6\" >0.0478</td>\n",
       "      <td id=\"T_cc9f7_row10_col7\" class=\"data row10 col7\" >0.1518</td>\n",
       "      <td id=\"T_cc9f7_row10_col8\" class=\"data row10 col8\" >19.7900</td>\n",
       "    </tr>\n",
       "    <tr>\n",
       "      <th id=\"T_cc9f7_level0_row11\" class=\"row_heading level0 row11\" >dummy</th>\n",
       "      <td id=\"T_cc9f7_row11_col0\" class=\"data row11 col0\" >Dummy Classifier</td>\n",
       "      <td id=\"T_cc9f7_row11_col1\" class=\"data row11 col1\" >0.7071</td>\n",
       "      <td id=\"T_cc9f7_row11_col2\" class=\"data row11 col2\" >0.5000</td>\n",
       "      <td id=\"T_cc9f7_row11_col3\" class=\"data row11 col3\" >0.0000</td>\n",
       "      <td id=\"T_cc9f7_row11_col4\" class=\"data row11 col4\" >0.0000</td>\n",
       "      <td id=\"T_cc9f7_row11_col5\" class=\"data row11 col5\" >0.0000</td>\n",
       "      <td id=\"T_cc9f7_row11_col6\" class=\"data row11 col6\" >0.0000</td>\n",
       "      <td id=\"T_cc9f7_row11_col7\" class=\"data row11 col7\" >0.0000</td>\n",
       "      <td id=\"T_cc9f7_row11_col8\" class=\"data row11 col8\" >0.0270</td>\n",
       "    </tr>\n",
       "    <tr>\n",
       "      <th id=\"T_cc9f7_level0_row12\" class=\"row_heading level0 row12\" >nb</th>\n",
       "      <td id=\"T_cc9f7_row12_col0\" class=\"data row12 col0\" >Naive Bayes</td>\n",
       "      <td id=\"T_cc9f7_row12_col1\" class=\"data row12 col1\" >0.3907</td>\n",
       "      <td id=\"T_cc9f7_row12_col2\" class=\"data row12 col2\" >0.5587</td>\n",
       "      <td id=\"T_cc9f7_row12_col3\" class=\"data row12 col3\" >0.9044</td>\n",
       "      <td id=\"T_cc9f7_row12_col4\" class=\"data row12 col4\" >0.3808</td>\n",
       "      <td id=\"T_cc9f7_row12_col5\" class=\"data row12 col5\" >0.4364</td>\n",
       "      <td id=\"T_cc9f7_row12_col6\" class=\"data row12 col6\" >0.0535</td>\n",
       "      <td id=\"T_cc9f7_row12_col7\" class=\"data row12 col7\" >0.1653</td>\n",
       "      <td id=\"T_cc9f7_row12_col8\" class=\"data row12 col8\" >0.0270</td>\n",
       "    </tr>\n",
       "    <tr>\n",
       "      <th id=\"T_cc9f7_level0_row13\" class=\"row_heading level0 row13\" >qda</th>\n",
       "      <td id=\"T_cc9f7_row13_col0\" class=\"data row13 col0\" >Quadratic Discriminant Analysis</td>\n",
       "      <td id=\"T_cc9f7_row13_col1\" class=\"data row13 col1\" >0.3907</td>\n",
       "      <td id=\"T_cc9f7_row13_col2\" class=\"data row13 col2\" >0.5587</td>\n",
       "      <td id=\"T_cc9f7_row13_col3\" class=\"data row13 col3\" >0.9044</td>\n",
       "      <td id=\"T_cc9f7_row13_col4\" class=\"data row13 col4\" >0.3808</td>\n",
       "      <td id=\"T_cc9f7_row13_col5\" class=\"data row13 col5\" >0.4364</td>\n",
       "      <td id=\"T_cc9f7_row13_col6\" class=\"data row13 col6\" >0.0535</td>\n",
       "      <td id=\"T_cc9f7_row13_col7\" class=\"data row13 col7\" >0.1653</td>\n",
       "      <td id=\"T_cc9f7_row13_col8\" class=\"data row13 col8\" >0.0270</td>\n",
       "    </tr>\n",
       "  </tbody>\n",
       "</table>\n"
      ],
      "text/plain": [
       "<pandas.io.formats.style.Styler at 0x7f47c27b0e80>"
      ]
     },
     "metadata": {},
     "output_type": "display_data"
    },
    {
     "data": {
      "text/html": [],
      "text/plain": [
       "<IPython.core.display.HTML object>"
      ]
     },
     "metadata": {},
     "output_type": "display_data"
    },
    {
     "data": {
      "text/html": [],
      "text/plain": [
       "<IPython.core.display.HTML object>"
      ]
     },
     "metadata": {},
     "output_type": "display_data"
    },
    {
     "data": {
      "text/html": [
       "<style type=\"text/css\">\n",
       "#T_2a704_row10_col0, #T_2a704_row10_col1, #T_2a704_row10_col2, #T_2a704_row10_col3, #T_2a704_row10_col4, #T_2a704_row10_col5, #T_2a704_row10_col6 {\n",
       "  background: yellow;\n",
       "}\n",
       "</style>\n",
       "<table id=\"T_2a704\">\n",
       "  <thead>\n",
       "    <tr>\n",
       "      <th class=\"blank level0\" >&nbsp;</th>\n",
       "      <th id=\"T_2a704_level0_col0\" class=\"col_heading level0 col0\" >Accuracy</th>\n",
       "      <th id=\"T_2a704_level0_col1\" class=\"col_heading level0 col1\" >AUC</th>\n",
       "      <th id=\"T_2a704_level0_col2\" class=\"col_heading level0 col2\" >Recall</th>\n",
       "      <th id=\"T_2a704_level0_col3\" class=\"col_heading level0 col3\" >Prec.</th>\n",
       "      <th id=\"T_2a704_level0_col4\" class=\"col_heading level0 col4\" >F1</th>\n",
       "      <th id=\"T_2a704_level0_col5\" class=\"col_heading level0 col5\" >Kappa</th>\n",
       "      <th id=\"T_2a704_level0_col6\" class=\"col_heading level0 col6\" >MCC</th>\n",
       "    </tr>\n",
       "    <tr>\n",
       "      <th class=\"index_name level0\" >Fold</th>\n",
       "      <th class=\"blank col0\" >&nbsp;</th>\n",
       "      <th class=\"blank col1\" >&nbsp;</th>\n",
       "      <th class=\"blank col2\" >&nbsp;</th>\n",
       "      <th class=\"blank col3\" >&nbsp;</th>\n",
       "      <th class=\"blank col4\" >&nbsp;</th>\n",
       "      <th class=\"blank col5\" >&nbsp;</th>\n",
       "      <th class=\"blank col6\" >&nbsp;</th>\n",
       "    </tr>\n",
       "  </thead>\n",
       "  <tbody>\n",
       "    <tr>\n",
       "      <th id=\"T_2a704_level0_row0\" class=\"row_heading level0 row0\" >0</th>\n",
       "      <td id=\"T_2a704_row0_col0\" class=\"data row0 col0\" >0.7165</td>\n",
       "      <td id=\"T_2a704_row0_col1\" class=\"data row0 col1\" >0.5580</td>\n",
       "      <td id=\"T_2a704_row0_col2\" class=\"data row0 col2\" >0.0351</td>\n",
       "      <td id=\"T_2a704_row0_col3\" class=\"data row0 col3\" >1.0000</td>\n",
       "      <td id=\"T_2a704_row0_col4\" class=\"data row0 col4\" >0.0678</td>\n",
       "      <td id=\"T_2a704_row0_col5\" class=\"data row0 col5\" >0.0489</td>\n",
       "      <td id=\"T_2a704_row0_col6\" class=\"data row0 col6\" >0.1582</td>\n",
       "    </tr>\n",
       "    <tr>\n",
       "      <th id=\"T_2a704_level0_row1\" class=\"row_heading level0 row1\" >1</th>\n",
       "      <td id=\"T_2a704_row1_col0\" class=\"data row1 col0\" >0.7216</td>\n",
       "      <td id=\"T_2a704_row1_col1\" class=\"data row1 col1\" >0.5661</td>\n",
       "      <td id=\"T_2a704_row1_col2\" class=\"data row1 col2\" >0.0526</td>\n",
       "      <td id=\"T_2a704_row1_col3\" class=\"data row1 col3\" >1.0000</td>\n",
       "      <td id=\"T_2a704_row1_col4\" class=\"data row1 col4\" >0.1000</td>\n",
       "      <td id=\"T_2a704_row1_col5\" class=\"data row1 col5\" >0.0728</td>\n",
       "      <td id=\"T_2a704_row1_col6\" class=\"data row1 col6\" >0.1943</td>\n",
       "    </tr>\n",
       "    <tr>\n",
       "      <th id=\"T_2a704_level0_row2\" class=\"row_heading level0 row2\" >2</th>\n",
       "      <td id=\"T_2a704_row2_col0\" class=\"data row2 col0\" >0.7113</td>\n",
       "      <td id=\"T_2a704_row2_col1\" class=\"data row2 col1\" >0.5464</td>\n",
       "      <td id=\"T_2a704_row2_col2\" class=\"data row2 col2\" >0.0175</td>\n",
       "      <td id=\"T_2a704_row2_col3\" class=\"data row2 col3\" >1.0000</td>\n",
       "      <td id=\"T_2a704_row2_col4\" class=\"data row2 col4\" >0.0345</td>\n",
       "      <td id=\"T_2a704_row2_col5\" class=\"data row2 col5\" >0.0246</td>\n",
       "      <td id=\"T_2a704_row2_col6\" class=\"data row2 col6\" >0.1116</td>\n",
       "    </tr>\n",
       "    <tr>\n",
       "      <th id=\"T_2a704_level0_row3\" class=\"row_heading level0 row3\" >3</th>\n",
       "      <td id=\"T_2a704_row3_col0\" class=\"data row3 col0\" >0.7113</td>\n",
       "      <td id=\"T_2a704_row3_col1\" class=\"data row3 col1\" >0.5536</td>\n",
       "      <td id=\"T_2a704_row3_col2\" class=\"data row3 col2\" >0.0175</td>\n",
       "      <td id=\"T_2a704_row3_col3\" class=\"data row3 col3\" >1.0000</td>\n",
       "      <td id=\"T_2a704_row3_col4\" class=\"data row3 col4\" >0.0345</td>\n",
       "      <td id=\"T_2a704_row3_col5\" class=\"data row3 col5\" >0.0246</td>\n",
       "      <td id=\"T_2a704_row3_col6\" class=\"data row3 col6\" >0.1116</td>\n",
       "    </tr>\n",
       "    <tr>\n",
       "      <th id=\"T_2a704_level0_row4\" class=\"row_heading level0 row4\" >4</th>\n",
       "      <td id=\"T_2a704_row4_col0\" class=\"data row4 col0\" >0.7191</td>\n",
       "      <td id=\"T_2a704_row4_col1\" class=\"data row4 col1\" >0.5551</td>\n",
       "      <td id=\"T_2a704_row4_col2\" class=\"data row4 col2\" >0.0439</td>\n",
       "      <td id=\"T_2a704_row4_col3\" class=\"data row4 col3\" >1.0000</td>\n",
       "      <td id=\"T_2a704_row4_col4\" class=\"data row4 col4\" >0.0840</td>\n",
       "      <td id=\"T_2a704_row4_col5\" class=\"data row4 col5\" >0.0608</td>\n",
       "      <td id=\"T_2a704_row4_col6\" class=\"data row4 col6\" >0.1771</td>\n",
       "    </tr>\n",
       "    <tr>\n",
       "      <th id=\"T_2a704_level0_row5\" class=\"row_heading level0 row5\" >5</th>\n",
       "      <td id=\"T_2a704_row5_col0\" class=\"data row5 col0\" >0.7088</td>\n",
       "      <td id=\"T_2a704_row5_col1\" class=\"data row5 col1\" >0.5460</td>\n",
       "      <td id=\"T_2a704_row5_col2\" class=\"data row5 col2\" >0.0088</td>\n",
       "      <td id=\"T_2a704_row5_col3\" class=\"data row5 col3\" >1.0000</td>\n",
       "      <td id=\"T_2a704_row5_col4\" class=\"data row5 col4\" >0.0174</td>\n",
       "      <td id=\"T_2a704_row5_col5\" class=\"data row5 col5\" >0.0123</td>\n",
       "      <td id=\"T_2a704_row5_col6\" class=\"data row5 col6\" >0.0788</td>\n",
       "    </tr>\n",
       "    <tr>\n",
       "      <th id=\"T_2a704_level0_row6\" class=\"row_heading level0 row6\" >6</th>\n",
       "      <td id=\"T_2a704_row6_col0\" class=\"data row6 col0\" >0.7268</td>\n",
       "      <td id=\"T_2a704_row6_col1\" class=\"data row6 col1\" >0.5719</td>\n",
       "      <td id=\"T_2a704_row6_col2\" class=\"data row6 col2\" >0.0619</td>\n",
       "      <td id=\"T_2a704_row6_col3\" class=\"data row6 col3\" >1.0000</td>\n",
       "      <td id=\"T_2a704_row6_col4\" class=\"data row6 col4\" >0.1167</td>\n",
       "      <td id=\"T_2a704_row6_col5\" class=\"data row6 col5\" >0.0856</td>\n",
       "      <td id=\"T_2a704_row6_col6\" class=\"data row6 col6\" >0.2115</td>\n",
       "    </tr>\n",
       "    <tr>\n",
       "      <th id=\"T_2a704_level0_row7\" class=\"row_heading level0 row7\" >7</th>\n",
       "      <td id=\"T_2a704_row7_col0\" class=\"data row7 col0\" >0.7165</td>\n",
       "      <td id=\"T_2a704_row7_col1\" class=\"data row7 col1\" >0.5504</td>\n",
       "      <td id=\"T_2a704_row7_col2\" class=\"data row7 col2\" >0.0265</td>\n",
       "      <td id=\"T_2a704_row7_col3\" class=\"data row7 col3\" >1.0000</td>\n",
       "      <td id=\"T_2a704_row7_col4\" class=\"data row7 col4\" >0.0517</td>\n",
       "      <td id=\"T_2a704_row7_col5\" class=\"data row7 col5\" >0.0372</td>\n",
       "      <td id=\"T_2a704_row7_col6\" class=\"data row7 col6\" >0.1377</td>\n",
       "    </tr>\n",
       "    <tr>\n",
       "      <th id=\"T_2a704_level0_row8\" class=\"row_heading level0 row8\" >8</th>\n",
       "      <td id=\"T_2a704_row8_col0\" class=\"data row8 col0\" >0.7183</td>\n",
       "      <td id=\"T_2a704_row8_col1\" class=\"data row8 col1\" >0.5775</td>\n",
       "      <td id=\"T_2a704_row8_col2\" class=\"data row8 col2\" >0.0354</td>\n",
       "      <td id=\"T_2a704_row8_col3\" class=\"data row8 col3\" >1.0000</td>\n",
       "      <td id=\"T_2a704_row8_col4\" class=\"data row8 col4\" >0.0684</td>\n",
       "      <td id=\"T_2a704_row8_col5\" class=\"data row8 col5\" >0.0494</td>\n",
       "      <td id=\"T_2a704_row8_col6\" class=\"data row8 col6\" >0.1591</td>\n",
       "    </tr>\n",
       "    <tr>\n",
       "      <th id=\"T_2a704_level0_row9\" class=\"row_heading level0 row9\" >9</th>\n",
       "      <td id=\"T_2a704_row9_col0\" class=\"data row9 col0\" >0.7209</td>\n",
       "      <td id=\"T_2a704_row9_col1\" class=\"data row9 col1\" >0.5727</td>\n",
       "      <td id=\"T_2a704_row9_col2\" class=\"data row9 col2\" >0.0442</td>\n",
       "      <td id=\"T_2a704_row9_col3\" class=\"data row9 col3\" >1.0000</td>\n",
       "      <td id=\"T_2a704_row9_col4\" class=\"data row9 col4\" >0.0847</td>\n",
       "      <td id=\"T_2a704_row9_col5\" class=\"data row9 col5\" >0.0615</td>\n",
       "      <td id=\"T_2a704_row9_col6\" class=\"data row9 col6\" >0.1782</td>\n",
       "    </tr>\n",
       "    <tr>\n",
       "      <th id=\"T_2a704_level0_row10\" class=\"row_heading level0 row10\" >Mean</th>\n",
       "      <td id=\"T_2a704_row10_col0\" class=\"data row10 col0\" >0.7171</td>\n",
       "      <td id=\"T_2a704_row10_col1\" class=\"data row10 col1\" >0.5598</td>\n",
       "      <td id=\"T_2a704_row10_col2\" class=\"data row10 col2\" >0.0344</td>\n",
       "      <td id=\"T_2a704_row10_col3\" class=\"data row10 col3\" >1.0000</td>\n",
       "      <td id=\"T_2a704_row10_col4\" class=\"data row10 col4\" >0.0660</td>\n",
       "      <td id=\"T_2a704_row10_col5\" class=\"data row10 col5\" >0.0478</td>\n",
       "      <td id=\"T_2a704_row10_col6\" class=\"data row10 col6\" >0.1518</td>\n",
       "    </tr>\n",
       "    <tr>\n",
       "      <th id=\"T_2a704_level0_row11\" class=\"row_heading level0 row11\" >Std</th>\n",
       "      <td id=\"T_2a704_row11_col0\" class=\"data row11 col0\" >0.0052</td>\n",
       "      <td id=\"T_2a704_row11_col1\" class=\"data row11 col1\" >0.0109</td>\n",
       "      <td id=\"T_2a704_row11_col2\" class=\"data row11 col2\" >0.0160</td>\n",
       "      <td id=\"T_2a704_row11_col3\" class=\"data row11 col3\" >0.0000</td>\n",
       "      <td id=\"T_2a704_row11_col4\" class=\"data row11 col4\" >0.0299</td>\n",
       "      <td id=\"T_2a704_row11_col5\" class=\"data row11 col5\" >0.0220</td>\n",
       "      <td id=\"T_2a704_row11_col6\" class=\"data row11 col6\" >0.0394</td>\n",
       "    </tr>\n",
       "  </tbody>\n",
       "</table>\n"
      ],
      "text/plain": [
       "<pandas.io.formats.style.Styler at 0x7f47ffb5dc70>"
      ]
     },
     "metadata": {},
     "output_type": "display_data"
    },
    {
     "data": {
      "text/html": [],
      "text/plain": [
       "<IPython.core.display.HTML object>"
      ]
     },
     "metadata": {},
     "output_type": "display_data"
    },
    {
     "name": "stdout",
     "output_type": "stream",
     "text": [
      "Fitting 10 folds for each of 10 candidates, totalling 100 fits\n",
      "Original model was better than the tuned model, hence it will be returned. NOTE: The display metrics are for the tuned model (not the original one).\n"
     ]
    },
    {
     "data": {
      "application/vnd.jupyter.widget-view+json": {
       "model_id": "9365cd4ce1f4442b8b0ed895e5c99c41",
       "version_major": 2,
       "version_minor": 0
      },
      "text/plain": [
       "interactive(children=(ToggleButtons(description='Plot Type:', icons=('',), options=(('Pipeline Plot', 'pipelin…"
      ]
     },
     "metadata": {},
     "output_type": "display_data"
    },
    {
     "name": "stderr",
     "output_type": "stream",
     "text": [
      "findfont: Generic family 'sans-serif' not found because none of the following families were found: Arial, Liberation Sans, Bitstream Vera Sans, sans-serif\n",
      "findfont: Generic family 'sans-serif' not found because none of the following families were found: Arial, Liberation Sans, Bitstream Vera Sans, sans-serif\n",
      "findfont: Generic family 'sans-serif' not found because none of the following families were found: Arial, Liberation Sans, Bitstream Vera Sans, sans-serif\n",
      "findfont: Generic family 'sans-serif' not found because none of the following families were found: Arial, Liberation Sans, Bitstream Vera Sans, sans-serif\n",
      "findfont: Generic family 'sans-serif' not found because none of the following families were found: Arial, Liberation Sans, Bitstream Vera Sans, sans-serif\n",
      "findfont: Generic family 'sans-serif' not found because none of the following families were found: Arial, Liberation Sans, Bitstream Vera Sans, sans-serif\n",
      "findfont: Generic family 'sans-serif' not found because none of the following families were found: Arial, Liberation Sans, Bitstream Vera Sans, sans-serif\n",
      "findfont: Generic family 'sans-serif' not found because none of the following families were found: Arial, Liberation Sans, Bitstream Vera Sans, sans-serif\n",
      "findfont: Generic family 'sans-serif' not found because none of the following families were found: Arial, Liberation Sans, Bitstream Vera Sans, sans-serif\n",
      "findfont: Generic family 'sans-serif' not found because none of the following families were found: Arial, Liberation Sans, Bitstream Vera Sans, sans-serif\n",
      "findfont: Generic family 'sans-serif' not found because none of the following families were found: Arial, Liberation Sans, Bitstream Vera Sans, sans-serif\n",
      "findfont: Generic family 'sans-serif' not found because none of the following families were found: Arial, Liberation Sans, Bitstream Vera Sans, sans-serif\n",
      "findfont: Generic family 'sans-serif' not found because none of the following families were found: Arial, Liberation Sans, Bitstream Vera Sans, sans-serif\n",
      "findfont: Generic family 'sans-serif' not found because none of the following families were found: Arial, Liberation Sans, Bitstream Vera Sans, sans-serif\n",
      "findfont: Generic family 'sans-serif' not found because none of the following families were found: Arial, Liberation Sans, Bitstream Vera Sans, sans-serif\n",
      "findfont: Generic family 'sans-serif' not found because none of the following families were found: Arial, Liberation Sans, Bitstream Vera Sans, sans-serif\n",
      "findfont: Generic family 'sans-serif' not found because none of the following families were found: Arial, Liberation Sans, Bitstream Vera Sans, sans-serif\n",
      "findfont: Generic family 'sans-serif' not found because none of the following families were found: Arial, Liberation Sans, Bitstream Vera Sans, sans-serif\n",
      "findfont: Generic family 'sans-serif' not found because none of the following families were found: Arial, Liberation Sans, Bitstream Vera Sans, sans-serif\n",
      "findfont: Generic family 'sans-serif' not found because none of the following families were found: Arial, Liberation Sans, Bitstream Vera Sans, sans-serif\n",
      "findfont: Generic family 'sans-serif' not found because none of the following families were found: Arial, Liberation Sans, Bitstream Vera Sans, sans-serif\n",
      "findfont: Generic family 'sans-serif' not found because none of the following families were found: Arial, Liberation Sans, Bitstream Vera Sans, sans-serif\n",
      "findfont: Generic family 'sans-serif' not found because none of the following families were found: Arial, Liberation Sans, Bitstream Vera Sans, sans-serif\n",
      "findfont: Generic family 'sans-serif' not found because none of the following families were found: Arial, Liberation Sans, Bitstream Vera Sans, sans-serif\n",
      "findfont: Generic family 'sans-serif' not found because none of the following families were found: Arial, Liberation Sans, Bitstream Vera Sans, sans-serif\n",
      "findfont: Generic family 'sans-serif' not found because none of the following families were found: Arial, Liberation Sans, Bitstream Vera Sans, sans-serif\n",
      "findfont: Generic family 'sans-serif' not found because none of the following families were found: Arial, Liberation Sans, Bitstream Vera Sans, sans-serif\n",
      "findfont: Generic family 'sans-serif' not found because none of the following families were found: Arial, Liberation Sans, Bitstream Vera Sans, sans-serif\n",
      "findfont: Generic family 'sans-serif' not found because none of the following families were found: Arial, Liberation Sans, Bitstream Vera Sans, sans-serif\n",
      "findfont: Generic family 'sans-serif' not found because none of the following families were found: Arial, Liberation Sans, Bitstream Vera Sans, sans-serif\n",
      "findfont: Generic family 'sans-serif' not found because none of the following families were found: Arial, Liberation Sans, Bitstream Vera Sans, sans-serif\n",
      "findfont: Generic family 'sans-serif' not found because none of the following families were found: Arial, Liberation Sans, Bitstream Vera Sans, sans-serif\n",
      "findfont: Generic family 'sans-serif' not found because none of the following families were found: Arial, Liberation Sans, Bitstream Vera Sans, sans-serif\n",
      "findfont: Generic family 'sans-serif' not found because none of the following families were found: Arial, Liberation Sans, Bitstream Vera Sans, sans-serif\n",
      "findfont: Generic family 'sans-serif' not found because none of the following families were found: Arial, Liberation Sans, Bitstream Vera Sans, sans-serif\n",
      "findfont: Generic family 'sans-serif' not found because none of the following families were found: Arial, Liberation Sans, Bitstream Vera Sans, sans-serif\n",
      "findfont: Generic family 'sans-serif' not found because none of the following families were found: Arial, Liberation Sans, Bitstream Vera Sans, sans-serif\n",
      "findfont: Generic family 'sans-serif' not found because none of the following families were found: Arial, Liberation Sans, Bitstream Vera Sans, sans-serif\n"
     ]
    },
    {
     "data": {
      "image/png": "[encoded data removed]",
      "text/plain": [
       "<Figure size 800x550 with 1 Axes>"
      ]
     },
     "metadata": {},
     "output_type": "display_data"
    },
    {
     "name": "stderr",
     "output_type": "stream",
     "text": [
      "findfont: Generic family 'sans-serif' not found because none of the following families were found: Arial, Liberation Sans, Bitstream Vera Sans, sans-serif\n",
      "findfont: Generic family 'sans-serif' not found because none of the following families were found: Arial, Liberation Sans, Bitstream Vera Sans, sans-serif\n",
      "findfont: Generic family 'sans-serif' not found because none of the following families were found: Arial, Liberation Sans, Bitstream Vera Sans, sans-serif\n",
      "findfont: Generic family 'sans-serif' not found because none of the following families were found: Arial, Liberation Sans, Bitstream Vera Sans, sans-serif\n",
      "findfont: Generic family 'sans-serif' not found because none of the following families were found: Arial, Liberation Sans, Bitstream Vera Sans, sans-serif\n",
      "findfont: Generic family 'sans-serif' not found because none of the following families were found: Arial, Liberation Sans, Bitstream Vera Sans, sans-serif\n",
      "findfont: Generic family 'sans-serif' not found because none of the following families were found: Arial, Liberation Sans, Bitstream Vera Sans, sans-serif\n",
      "findfont: Generic family 'sans-serif' not found because none of the following families were found: Arial, Liberation Sans, Bitstream Vera Sans, sans-serif\n",
      "findfont: Generic family 'sans-serif' not found because none of the following families were found: Arial, Liberation Sans, Bitstream Vera Sans, sans-serif\n",
      "findfont: Generic family 'sans-serif' not found because none of the following families were found: Arial, Liberation Sans, Bitstream Vera Sans, sans-serif\n",
      "findfont: Generic family 'sans-serif' not found because none of the following families were found: Arial, Liberation Sans, Bitstream Vera Sans, sans-serif\n",
      "findfont: Generic family 'sans-serif' not found because none of the following families were found: Arial, Liberation Sans, Bitstream Vera Sans, sans-serif\n",
      "findfont: Generic family 'sans-serif' not found because none of the following families were found: Arial, Liberation Sans, Bitstream Vera Sans, sans-serif\n",
      "findfont: Generic family 'sans-serif' not found because none of the following families were found: Arial, Liberation Sans, Bitstream Vera Sans, sans-serif\n",
      "findfont: Generic family 'sans-serif' not found because none of the following families were found: Arial, Liberation Sans, Bitstream Vera Sans, sans-serif\n",
      "findfont: Generic family 'sans-serif' not found because none of the following families were found: Arial, Liberation Sans, Bitstream Vera Sans, sans-serif\n",
      "findfont: Generic family 'sans-serif' not found because none of the following families were found: Arial, Liberation Sans, Bitstream Vera Sans, sans-serif\n",
      "findfont: Generic family 'sans-serif' not found because none of the following families were found: Arial, Liberation Sans, Bitstream Vera Sans, sans-serif\n",
      "findfont: Generic family 'sans-serif' not found because none of the following families were found: Arial, Liberation Sans, Bitstream Vera Sans, sans-serif\n",
      "findfont: Generic family 'sans-serif' not found because none of the following families were found: Arial, Liberation Sans, Bitstream Vera Sans, sans-serif\n",
      "findfont: Generic family 'sans-serif' not found because none of the following families were found: Arial, Liberation Sans, Bitstream Vera Sans, sans-serif\n",
      "findfont: Generic family 'sans-serif' not found because none of the following families were found: Arial, Liberation Sans, Bitstream Vera Sans, sans-serif\n",
      "findfont: Generic family 'sans-serif' not found because none of the following families were found: Arial, Liberation Sans, Bitstream Vera Sans, sans-serif\n",
      "findfont: Generic family 'sans-serif' not found because none of the following families were found: Arial, Liberation Sans, Bitstream Vera Sans, sans-serif\n",
      "findfont: Generic family 'sans-serif' not found because none of the following families were found: Arial, Liberation Sans, Bitstream Vera Sans, sans-serif\n",
      "findfont: Generic family 'sans-serif' not found because none of the following families were found: Arial, Liberation Sans, Bitstream Vera Sans, sans-serif\n",
      "findfont: Generic family 'sans-serif' not found because none of the following families were found: Arial, Liberation Sans, Bitstream Vera Sans, sans-serif\n",
      "findfont: Generic family 'sans-serif' not found because none of the following families were found: Arial, Liberation Sans, Bitstream Vera Sans, sans-serif\n",
      "findfont: Generic family 'sans-serif' not found because none of the following families were found: Arial, Liberation Sans, Bitstream Vera Sans, sans-serif\n",
      "findfont: Generic family 'sans-serif' not found because none of the following families were found: Arial, Liberation Sans, Bitstream Vera Sans, sans-serif\n",
      "findfont: Generic family 'sans-serif' not found because none of the following families were found: Arial, Liberation Sans, Bitstream Vera Sans, sans-serif\n",
      "findfont: Generic family 'sans-serif' not found because none of the following families were found: Arial, Liberation Sans, Bitstream Vera Sans, sans-serif\n",
      "findfont: Generic family 'sans-serif' not found because none of the following families were found: Arial, Liberation Sans, Bitstream Vera Sans, sans-serif\n",
      "findfont: Generic family 'sans-serif' not found because none of the following families were found: Arial, Liberation Sans, Bitstream Vera Sans, sans-serif\n",
      "findfont: Generic family 'sans-serif' not found because none of the following families were found: Arial, Liberation Sans, Bitstream Vera Sans, sans-serif\n",
      "findfont: Generic family 'sans-serif' not found because none of the following families were found: Arial, Liberation Sans, Bitstream Vera Sans, sans-serif\n",
      "findfont: Generic family 'sans-serif' not found because none of the following families were found: Arial, Liberation Sans, Bitstream Vera Sans, sans-serif\n",
      "findfont: Generic family 'sans-serif' not found because none of the following families were found: Arial, Liberation Sans, Bitstream Vera Sans, sans-serif\n"
     ]
    },
    {
     "data": {
      "image/png": "[encoded data removed]",
      "text/plain": [
       "<Figure size 800x550 with 1 Axes>"
      ]
     },
     "metadata": {},
     "output_type": "display_data"
    },
    {
     "name": "stderr",
     "output_type": "stream",
     "text": [
      "findfont: Generic family 'sans-serif' not found because none of the following families were found: Arial, Liberation Sans, Bitstream Vera Sans, sans-serif\n",
      "findfont: Generic family 'sans-serif' not found because none of the following families were found: Arial, Liberation Sans, Bitstream Vera Sans, sans-serif\n",
      "findfont: Generic family 'sans-serif' not found because none of the following families were found: Arial, Liberation Sans, Bitstream Vera Sans, sans-serif\n",
      "findfont: Generic family 'sans-serif' not found because none of the following families were found: Arial, Liberation Sans, Bitstream Vera Sans, sans-serif\n",
      "findfont: Generic family 'sans-serif' not found because none of the following families were found: Arial, Liberation Sans, Bitstream Vera Sans, sans-serif\n",
      "findfont: Generic family 'sans-serif' not found because none of the following families were found: Arial, Liberation Sans, Bitstream Vera Sans, sans-serif\n",
      "findfont: Generic family 'sans-serif' not found because none of the following families were found: Arial, Liberation Sans, Bitstream Vera Sans, sans-serif\n",
      "findfont: Generic family 'sans-serif' not found because none of the following families were found: Arial, Liberation Sans, Bitstream Vera Sans, sans-serif\n",
      "findfont: Generic family 'sans-serif' not found because none of the following families were found: Arial, Liberation Sans, Bitstream Vera Sans, sans-serif\n",
      "findfont: Generic family 'sans-serif' not found because none of the following families were found: Arial, Liberation Sans, Bitstream Vera Sans, sans-serif\n",
      "findfont: Generic family 'sans-serif' not found because none of the following families were found: Arial, Liberation Sans, Bitstream Vera Sans, sans-serif\n",
      "findfont: Generic family 'sans-serif' not found because none of the following families were found: Arial, Liberation Sans, Bitstream Vera Sans, sans-serif\n",
      "findfont: Generic family 'sans-serif' not found because none of the following families were found: Arial, Liberation Sans, Bitstream Vera Sans, sans-serif\n",
      "findfont: Generic family 'sans-serif' not found because none of the following families were found: Arial, Liberation Sans, Bitstream Vera Sans, sans-serif\n",
      "findfont: Generic family 'sans-serif' not found because none of the following families were found: Arial, Liberation Sans, Bitstream Vera Sans, sans-serif\n",
      "findfont: Generic family 'sans-serif' not found because none of the following families were found: Arial, Liberation Sans, Bitstream Vera Sans, sans-serif\n",
      "findfont: Generic family 'sans-serif' not found because none of the following families were found: Arial, Liberation Sans, Bitstream Vera Sans, sans-serif\n",
      "findfont: Generic family 'sans-serif' not found because none of the following families were found: Arial, Liberation Sans, Bitstream Vera Sans, sans-serif\n",
      "findfont: Generic family 'sans-serif' not found because none of the following families were found: Arial, Liberation Sans, Bitstream Vera Sans, sans-serif\n",
      "findfont: Generic family 'sans-serif' not found because none of the following families were found: Arial, Liberation Sans, Bitstream Vera Sans, sans-serif\n",
      "findfont: Generic family 'sans-serif' not found because none of the following families were found: Arial, Liberation Sans, Bitstream Vera Sans, sans-serif\n",
      "findfont: Generic family 'sans-serif' not found because none of the following families were found: Arial, Liberation Sans, Bitstream Vera Sans, sans-serif\n",
      "findfont: Generic family 'sans-serif' not found because none of the following families were found: Arial, Liberation Sans, Bitstream Vera Sans, sans-serif\n",
      "findfont: Generic family 'sans-serif' not found because none of the following families were found: Arial, Liberation Sans, Bitstream Vera Sans, sans-serif\n",
      "findfont: Generic family 'sans-serif' not found because none of the following families were found: Arial, Liberation Sans, Bitstream Vera Sans, sans-serif\n",
      "findfont: Generic family 'sans-serif' not found because none of the following families were found: Arial, Liberation Sans, Bitstream Vera Sans, sans-serif\n",
      "findfont: Generic family 'sans-serif' not found because none of the following families were found: Arial, Liberation Sans, Bitstream Vera Sans, sans-serif\n",
      "findfont: Generic family 'sans-serif' not found because none of the following families were found: Arial, Liberation Sans, Bitstream Vera Sans, sans-serif\n",
      "findfont: Generic family 'sans-serif' not found because none of the following families were found: Arial, Liberation Sans, Bitstream Vera Sans, sans-serif\n",
      "findfont: Generic family 'sans-serif' not found because none of the following families were found: Arial, Liberation Sans, Bitstream Vera Sans, sans-serif\n",
      "findfont: Generic family 'sans-serif' not found because none of the following families were found: Arial, Liberation Sans, Bitstream Vera Sans, sans-serif\n",
      "findfont: Generic family 'sans-serif' not found because none of the following families were found: Arial, Liberation Sans, Bitstream Vera Sans, sans-serif\n",
      "findfont: Generic family 'sans-serif' not found because none of the following families were found: Arial, Liberation Sans, Bitstream Vera Sans, sans-serif\n",
      "findfont: Generic family 'sans-serif' not found because none of the following families were found: Arial, Liberation Sans, Bitstream Vera Sans, sans-serif\n",
      "findfont: Generic family 'sans-serif' not found because none of the following families were found: Arial, Liberation Sans, Bitstream Vera Sans, sans-serif\n",
      "findfont: Generic family 'sans-serif' not found because none of the following families were found: Arial, Liberation Sans, Bitstream Vera Sans, sans-serif\n",
      "findfont: Generic family 'sans-serif' not found because none of the following families were found: Arial, Liberation Sans, Bitstream Vera Sans, sans-serif\n",
      "findfont: Generic family 'sans-serif' not found because none of the following families were found: Arial, Liberation Sans, Bitstream Vera Sans, sans-serif\n",
      "findfont: Generic family 'sans-serif' not found because none of the following families were found: Arial, Liberation Sans, Bitstream Vera Sans, sans-serif\n",
      "findfont: Generic family 'sans-serif' not found because none of the following families were found: Arial, Liberation Sans, Bitstream Vera Sans, sans-serif\n",
      "findfont: Generic family 'sans-serif' not found because none of the following families were found: Arial, Liberation Sans, Bitstream Vera Sans, sans-serif\n",
      "findfont: Generic family 'sans-serif' not found because none of the following families were found: Arial, Liberation Sans, Bitstream Vera Sans, sans-serif\n",
      "findfont: Generic family 'sans-serif' not found because none of the following families were found: Arial, Liberation Sans, Bitstream Vera Sans, sans-serif\n",
      "findfont: Generic family 'sans-serif' not found because none of the following families were found: Arial, Liberation Sans, Bitstream Vera Sans, sans-serif\n",
      "findfont: Generic family 'sans-serif' not found because none of the following families were found: Arial, Liberation Sans, Bitstream Vera Sans, sans-serif\n",
      "findfont: Generic family 'sans-serif' not found because none of the following families were found: Arial, Liberation Sans, Bitstream Vera Sans, sans-serif\n",
      "findfont: Generic family 'sans-serif' not found because none of the following families were found: Arial, Liberation Sans, Bitstream Vera Sans, sans-serif\n",
      "findfont: Generic family 'sans-serif' not found because none of the following families were found: Arial, Liberation Sans, Bitstream Vera Sans, sans-serif\n",
      "findfont: Generic family 'sans-serif' not found because none of the following families were found: Arial, Liberation Sans, Bitstream Vera Sans, sans-serif\n",
      "findfont: Generic family 'sans-serif' not found because none of the following families were found: Arial, Liberation Sans, Bitstream Vera Sans, sans-serif\n",
      "findfont: Generic family 'sans-serif' not found because none of the following families were found: Arial, Liberation Sans, Bitstream Vera Sans, sans-serif\n",
      "findfont: Generic family 'sans-serif' not found because none of the following families were found: Arial, Liberation Sans, Bitstream Vera Sans, sans-serif\n",
      "findfont: Generic family 'sans-serif' not found because none of the following families were found: Arial, Liberation Sans, Bitstream Vera Sans, sans-serif\n",
      "findfont: Generic family 'sans-serif' not found because none of the following families were found: Arial, Liberation Sans, Bitstream Vera Sans, sans-serif\n",
      "findfont: Generic family 'sans-serif' not found because none of the following families were found: Arial, Liberation Sans, Bitstream Vera Sans, sans-serif\n",
      "findfont: Generic family 'sans-serif' not found because none of the following families were found: Arial, Liberation Sans, Bitstream Vera Sans, sans-serif\n"
     ]
    },
    {
     "data": {
      "image/png": "[encoded data removed]",
      "text/plain": [
       "<Figure size 800x550 with 1 Axes>"
      ]
     },
     "metadata": {},
     "output_type": "display_data"
    }
   ],
   "source": [
    "# Importing the necessary libraries\n",
    "from pycaret.classification import *\n",
    "\n",
    "# Creating a PyCaret experiment\n",
    "exp_clf = setup(\n",
    "    data=df_target_train,\n",
    "    train_size=0.8,\n",
    "    target='label_num',\n",
    "    session_id=42,\n",
    "    log_experiment=True,\n",
    "    experiment_name='spam_classification',\n",
    "    test_data=df_target_test\n",
    "    )\n",
    "\n",
    "\n",
    "# Entrenar varios modelos de clasificación utilizando train_data\n",
    "best_model = compare_models(verbose=True)\n",
    "\n",
    "# Tuning the best model\n",
    "tuned_model = tune_model(best_model)\n",
    "\n",
    "# Evaluating the tuned model\n",
    "evaluate_model(tuned_model)\n",
    "\n",
    "# Finalizing the tuned model\n",
    "final_model = finalize_model(tuned_model)\n",
    "\n"
   ]
  },
  {
   "cell_type": "code",
   "execution_count": 35,
   "metadata": {},
   "outputs": [
    {
     "data": {
      "text/html": [
       "<style>#sk-container-id-1 {color: black;background-color: white;}#sk-container-id-1 pre{padding: 0;}#sk-container-id-1 div.sk-toggleable {background-color: white;}#sk-container-id-1 label.sk-toggleable__label {cursor: pointer;display: block;width: 100%;margin-bottom: 0;padding: 0.3em;box-sizing: border-box;text-align: center;}#sk-container-id-1 label.sk-toggleable__label-arrow:before {content: \"▸\";float: left;margin-right: 0.25em;color: #696969;}#sk-container-id-1 label.sk-toggleable__label-arrow:hover:before {color: black;}#sk-container-id-1 div.sk-estimator:hover label.sk-toggleable__label-arrow:before {color: black;}#sk-container-id-1 div.sk-toggleable__content {max-height: 0;max-width: 0;overflow: hidden;text-align: left;background-color: #f0f8ff;}#sk-container-id-1 div.sk-toggleable__content pre {margin: 0.2em;color: black;border-radius: 0.25em;background-color: #f0f8ff;}#sk-container-id-1 input.sk-toggleable__control:checked~div.sk-toggleable__content {max-height: 200px;max-width: 100%;overflow: auto;}#sk-container-id-1 input.sk-toggleable__control:checked~label.sk-toggleable__label-arrow:before {content: \"▾\";}#sk-container-id-1 div.sk-estimator input.sk-toggleable__control:checked~label.sk-toggleable__label {background-color: #d4ebff;}#sk-container-id-1 div.sk-label input.sk-toggleable__control:checked~label.sk-toggleable__label {background-color: #d4ebff;}#sk-container-id-1 input.sk-hidden--visually {border: 0;clip: rect(1px 1px 1px 1px);clip: rect(1px, 1px, 1px, 1px);height: 1px;margin: -1px;overflow: hidden;padding: 0;position: absolute;width: 1px;}#sk-container-id-1 div.sk-estimator {font-family: monospace;background-color: #f0f8ff;border: 1px dotted black;border-radius: 0.25em;box-sizing: border-box;margin-bottom: 0.5em;}#sk-container-id-1 div.sk-estimator:hover {background-color: #d4ebff;}#sk-container-id-1 div.sk-parallel-item::after {content: \"\";width: 100%;border-bottom: 1px solid gray;flex-grow: 1;}#sk-container-id-1 div.sk-label:hover label.sk-toggleable__label {background-color: #d4ebff;}#sk-container-id-1 div.sk-serial::before {content: \"\";position: absolute;border-left: 1px solid gray;box-sizing: border-box;top: 0;bottom: 0;left: 50%;z-index: 0;}#sk-container-id-1 div.sk-serial {display: flex;flex-direction: column;align-items: center;background-color: white;padding-right: 0.2em;padding-left: 0.2em;position: relative;}#sk-container-id-1 div.sk-item {position: relative;z-index: 1;}#sk-container-id-1 div.sk-parallel {display: flex;align-items: stretch;justify-content: center;background-color: white;position: relative;}#sk-container-id-1 div.sk-item::before, #sk-container-id-1 div.sk-parallel-item::before {content: \"\";position: absolute;border-left: 1px solid gray;box-sizing: border-box;top: 0;bottom: 0;left: 50%;z-index: -1;}#sk-container-id-1 div.sk-parallel-item {display: flex;flex-direction: column;z-index: 1;position: relative;background-color: white;}#sk-container-id-1 div.sk-parallel-item:first-child::after {align-self: flex-end;width: 50%;}#sk-container-id-1 div.sk-parallel-item:last-child::after {align-self: flex-start;width: 50%;}#sk-container-id-1 div.sk-parallel-item:only-child::after {width: 0;}#sk-container-id-1 div.sk-dashed-wrapped {border: 1px dashed gray;margin: 0 0.4em 0.5em 0.4em;box-sizing: border-box;padding-bottom: 0.4em;background-color: white;}#sk-container-id-1 div.sk-label label {font-family: monospace;font-weight: bold;display: inline-block;line-height: 1.2em;}#sk-container-id-1 div.sk-label-container {text-align: center;}#sk-container-id-1 div.sk-container {/* jupyter's `normalize.less` sets `[hidden] { display: none; }` but bootstrap.min.css set `[hidden] { display: none !important; }` so we also need the `!important` here to be able to override the default hidden behavior on the sphinx rendered scikit-learn.org. See: https://github.com/scikit-learn/scikit-learn/issues/21755 */display: inline-block !important;position: relative;}#sk-container-id-1 div.sk-text-repr-fallback {display: none;}</style><div id=\"sk-container-id-1\" class=\"sk-top-container\"><div class=\"sk-text-repr-fallback\"><pre>Pipeline(memory=Memory(location=None),\n",
       "         steps=[(&#x27;numerical_imputer&#x27;,\n",
       "                 TransformerWrapper(exclude=None, include=[],\n",
       "                                    transformer=SimpleImputer(add_indicator=False,\n",
       "                                                              copy=True,\n",
       "                                                              fill_value=None,\n",
       "                                                              keep_empty_features=False,\n",
       "                                                              missing_values=nan,\n",
       "                                                              strategy=&#x27;mean&#x27;,\n",
       "                                                              verbose=&#x27;deprecated&#x27;))),\n",
       "                (&#x27;categorical_imputer&#x27;,\n",
       "                 TransformerWrapper(exclude=None, include=[&#x27;text&#x27;],\n",
       "                                    transformer=...\n",
       "                                                              handle_unknown=&#x27;value&#x27;,\n",
       "                                                              hierarchy=None,\n",
       "                                                              min_samples_leaf=20,\n",
       "                                                              return_df=True,\n",
       "                                                              smoothing=10,\n",
       "                                                              verbose=0))),\n",
       "                (&#x27;actual_estimator&#x27;,\n",
       "                 LogisticRegression(C=1.0, class_weight=None, dual=False,\n",
       "                                    fit_intercept=True, intercept_scaling=1,\n",
       "                                    l1_ratio=None, max_iter=1000,\n",
       "                                    multi_class=&#x27;auto&#x27;, n_jobs=None,\n",
       "                                    penalty=&#x27;l2&#x27;, random_state=42,\n",
       "                                    solver=&#x27;lbfgs&#x27;, tol=0.0001, verbose=0,\n",
       "                                    warm_start=False))],\n",
       "         verbose=False)</pre><b>In a Jupyter environment, please rerun this cell to show the HTML representation or trust the notebook. <br />On GitHub, the HTML representation is unable to render, please try loading this page with nbviewer.org.</b></div><div class=\"sk-container\" hidden><div class=\"sk-item sk-dashed-wrapped\"><div class=\"sk-label-container\"><div class=\"sk-label sk-toggleable\"><input class=\"sk-toggleable__control sk-hidden--visually\" id=\"sk-estimator-id-1\" type=\"checkbox\" ><label for=\"sk-estimator-id-1\" class=\"sk-toggleable__label sk-toggleable__label-arrow\">Pipeline</label><div class=\"sk-toggleable__content\"><pre>Pipeline(memory=Memory(location=None),\n",
       "         steps=[(&#x27;numerical_imputer&#x27;,\n",
       "                 TransformerWrapper(exclude=None, include=[],\n",
       "                                    transformer=SimpleImputer(add_indicator=False,\n",
       "                                                              copy=True,\n",
       "                                                              fill_value=None,\n",
       "                                                              keep_empty_features=False,\n",
       "                                                              missing_values=nan,\n",
       "                                                              strategy=&#x27;mean&#x27;,\n",
       "                                                              verbose=&#x27;deprecated&#x27;))),\n",
       "                (&#x27;categorical_imputer&#x27;,\n",
       "                 TransformerWrapper(exclude=None, include=[&#x27;text&#x27;],\n",
       "                                    transformer=...\n",
       "                                                              handle_unknown=&#x27;value&#x27;,\n",
       "                                                              hierarchy=None,\n",
       "                                                              min_samples_leaf=20,\n",
       "                                                              return_df=True,\n",
       "                                                              smoothing=10,\n",
       "                                                              verbose=0))),\n",
       "                (&#x27;actual_estimator&#x27;,\n",
       "                 LogisticRegression(C=1.0, class_weight=None, dual=False,\n",
       "                                    fit_intercept=True, intercept_scaling=1,\n",
       "                                    l1_ratio=None, max_iter=1000,\n",
       "                                    multi_class=&#x27;auto&#x27;, n_jobs=None,\n",
       "                                    penalty=&#x27;l2&#x27;, random_state=42,\n",
       "                                    solver=&#x27;lbfgs&#x27;, tol=0.0001, verbose=0,\n",
       "                                    warm_start=False))],\n",
       "         verbose=False)</pre></div></div></div><div class=\"sk-serial\"><div class=\"sk-item sk-dashed-wrapped\"><div class=\"sk-label-container\"><div class=\"sk-label sk-toggleable\"><input class=\"sk-toggleable__control sk-hidden--visually\" id=\"sk-estimator-id-2\" type=\"checkbox\" ><label for=\"sk-estimator-id-2\" class=\"sk-toggleable__label sk-toggleable__label-arrow\">numerical_imputer: TransformerWrapper</label><div class=\"sk-toggleable__content\"><pre>TransformerWrapper(exclude=None, include=[],\n",
       "                   transformer=SimpleImputer(add_indicator=False, copy=True,\n",
       "                                             fill_value=None,\n",
       "                                             keep_empty_features=False,\n",
       "                                             missing_values=nan,\n",
       "                                             strategy=&#x27;mean&#x27;,\n",
       "                                             verbose=&#x27;deprecated&#x27;))</pre></div></div></div><div class=\"sk-parallel\"><div class=\"sk-parallel-item\"><div class=\"sk-item\"><div class=\"sk-label-container\"><div class=\"sk-label sk-toggleable\"><input class=\"sk-toggleable__control sk-hidden--visually\" id=\"sk-estimator-id-3\" type=\"checkbox\" ><label for=\"sk-estimator-id-3\" class=\"sk-toggleable__label sk-toggleable__label-arrow\">transformer: SimpleImputer</label><div class=\"sk-toggleable__content\"><pre>SimpleImputer()</pre></div></div></div><div class=\"sk-serial\"><div class=\"sk-item\"><div class=\"sk-estimator sk-toggleable\"><input class=\"sk-toggleable__control sk-hidden--visually\" id=\"sk-estimator-id-4\" type=\"checkbox\" ><label for=\"sk-estimator-id-4\" class=\"sk-toggleable__label sk-toggleable__label-arrow\">SimpleImputer</label><div class=\"sk-toggleable__content\"><pre>SimpleImputer()</pre></div></div></div></div></div></div></div></div><div class=\"sk-item sk-dashed-wrapped\"><div class=\"sk-label-container\"><div class=\"sk-label sk-toggleable\"><input class=\"sk-toggleable__control sk-hidden--visually\" id=\"sk-estimator-id-5\" type=\"checkbox\" ><label for=\"sk-estimator-id-5\" class=\"sk-toggleable__label sk-toggleable__label-arrow\">categorical_imputer: TransformerWrapper</label><div class=\"sk-toggleable__content\"><pre>TransformerWrapper(exclude=None, include=[&#x27;text&#x27;],\n",
       "                   transformer=SimpleImputer(add_indicator=False, copy=True,\n",
       "                                             fill_value=None,\n",
       "                                             keep_empty_features=False,\n",
       "                                             missing_values=nan,\n",
       "                                             strategy=&#x27;most_frequent&#x27;,\n",
       "                                             verbose=&#x27;deprecated&#x27;))</pre></div></div></div><div class=\"sk-parallel\"><div class=\"sk-parallel-item\"><div class=\"sk-item\"><div class=\"sk-label-container\"><div class=\"sk-label sk-toggleable\"><input class=\"sk-toggleable__control sk-hidden--visually\" id=\"sk-estimator-id-6\" type=\"checkbox\" ><label for=\"sk-estimator-id-6\" class=\"sk-toggleable__label sk-toggleable__label-arrow\">transformer: SimpleImputer</label><div class=\"sk-toggleable__content\"><pre>SimpleImputer(strategy=&#x27;most_frequent&#x27;)</pre></div></div></div><div class=\"sk-serial\"><div class=\"sk-item\"><div class=\"sk-estimator sk-toggleable\"><input class=\"sk-toggleable__control sk-hidden--visually\" id=\"sk-estimator-id-7\" type=\"checkbox\" ><label for=\"sk-estimator-id-7\" class=\"sk-toggleable__label sk-toggleable__label-arrow\">SimpleImputer</label><div class=\"sk-toggleable__content\"><pre>SimpleImputer(strategy=&#x27;most_frequent&#x27;)</pre></div></div></div></div></div></div></div></div><div class=\"sk-item sk-dashed-wrapped\"><div class=\"sk-label-container\"><div class=\"sk-label sk-toggleable\"><input class=\"sk-toggleable__control sk-hidden--visually\" id=\"sk-estimator-id-8\" type=\"checkbox\" ><label for=\"sk-estimator-id-8\" class=\"sk-toggleable__label sk-toggleable__label-arrow\">rest_encoding: TransformerWrapper</label><div class=\"sk-toggleable__content\"><pre>TransformerWrapper(exclude=None, include=[&#x27;text&#x27;],\n",
       "                   transformer=TargetEncoder(cols=[&#x27;text&#x27;],\n",
       "                                             drop_invariant=False,\n",
       "                                             handle_missing=&#x27;return_nan&#x27;,\n",
       "                                             handle_unknown=&#x27;value&#x27;,\n",
       "                                             hierarchy=None,\n",
       "                                             min_samples_leaf=20,\n",
       "                                             return_df=True, smoothing=10,\n",
       "                                             verbose=0))</pre></div></div></div><div class=\"sk-parallel\"><div class=\"sk-parallel-item\"><div class=\"sk-item\"><div class=\"sk-label-container\"><div class=\"sk-label sk-toggleable\"><input class=\"sk-toggleable__control sk-hidden--visually\" id=\"sk-estimator-id-9\" type=\"checkbox\" ><label for=\"sk-estimator-id-9\" class=\"sk-toggleable__label sk-toggleable__label-arrow\">transformer: TargetEncoder</label><div class=\"sk-toggleable__content\"><pre>TargetEncoder(cols=[&#x27;text&#x27;], handle_missing=&#x27;return_nan&#x27;)</pre></div></div></div><div class=\"sk-serial\"><div class=\"sk-item\"><div class=\"sk-estimator sk-toggleable\"><input class=\"sk-toggleable__control sk-hidden--visually\" id=\"sk-estimator-id-10\" type=\"checkbox\" ><label for=\"sk-estimator-id-10\" class=\"sk-toggleable__label sk-toggleable__label-arrow\">TargetEncoder</label><div class=\"sk-toggleable__content\"><pre>TargetEncoder(cols=[&#x27;text&#x27;], handle_missing=&#x27;return_nan&#x27;)</pre></div></div></div></div></div></div></div></div><div class=\"sk-item\"><div class=\"sk-estimator sk-toggleable\"><input class=\"sk-toggleable__control sk-hidden--visually\" id=\"sk-estimator-id-11\" type=\"checkbox\" ><label for=\"sk-estimator-id-11\" class=\"sk-toggleable__label sk-toggleable__label-arrow\">LogisticRegression</label><div class=\"sk-toggleable__content\"><pre>LogisticRegression(max_iter=1000, random_state=42)</pre></div></div></div></div></div></div></div>"
      ],
      "text/plain": [
       "Pipeline(memory=Memory(location=None),\n",
       "         steps=[('numerical_imputer',\n",
       "                 TransformerWrapper(exclude=None, include=[],\n",
       "                                    transformer=SimpleImputer(add_indicator=False,\n",
       "                                                              copy=True,\n",
       "                                                              fill_value=None,\n",
       "                                                              keep_empty_features=False,\n",
       "                                                              missing_values=nan,\n",
       "                                                              strategy='mean',\n",
       "                                                              verbose='deprecated'))),\n",
       "                ('categorical_imputer',\n",
       "                 TransformerWrapper(exclude=None, include=['text'],\n",
       "                                    transformer=...\n",
       "                                                              handle_unknown='value',\n",
       "                                                              hierarchy=None,\n",
       "                                                              min_samples_leaf=20,\n",
       "                                                              return_df=True,\n",
       "                                                              smoothing=10,\n",
       "                                                              verbose=0))),\n",
       "                ('actual_estimator',\n",
       "                 LogisticRegression(C=1.0, class_weight=None, dual=False,\n",
       "                                    fit_intercept=True, intercept_scaling=1,\n",
       "                                    l1_ratio=None, max_iter=1000,\n",
       "                                    multi_class='auto', n_jobs=None,\n",
       "                                    penalty='l2', random_state=42,\n",
       "                                    solver='lbfgs', tol=0.0001, verbose=0,\n",
       "                                    warm_start=False))],\n",
       "         verbose=False)"
      ]
     },
     "execution_count": 35,
     "metadata": {},
     "output_type": "execute_result"
    }
   ],
   "source": [
    "final_model"
   ]
  },
  {
   "cell_type": "code",
   "execution_count": 36,
   "metadata": {},
   "outputs": [
    {
     "name": "stdout",
     "output_type": "stream",
     "text": [
      "Transformation Pipeline and Model Successfully Saved\n"
     ]
    },
    {
     "data": {
      "text/plain": [
       "(Pipeline(memory=Memory(location=None),\n",
       "          steps=[('numerical_imputer',\n",
       "                  TransformerWrapper(exclude=None, include=[],\n",
       "                                     transformer=SimpleImputer(add_indicator=False,\n",
       "                                                               copy=True,\n",
       "                                                               fill_value=None,\n",
       "                                                               keep_empty_features=False,\n",
       "                                                               missing_values=nan,\n",
       "                                                               strategy='mean',\n",
       "                                                               verbose='deprecated'))),\n",
       "                 ('categorical_imputer',\n",
       "                  TransformerWrapper(exclude=None, include=['text'],\n",
       "                                     transformer=...\n",
       "                                                               handle_unknown='value',\n",
       "                                                               hierarchy=None,\n",
       "                                                               min_samples_leaf=20,\n",
       "                                                               return_df=True,\n",
       "                                                               smoothing=10,\n",
       "                                                               verbose=0))),\n",
       "                 ('actual_estimator',\n",
       "                  LogisticRegression(C=1.0, class_weight=None, dual=False,\n",
       "                                     fit_intercept=True, intercept_scaling=1,\n",
       "                                     l1_ratio=None, max_iter=1000,\n",
       "                                     multi_class='auto', n_jobs=None,\n",
       "                                     penalty='l2', random_state=42,\n",
       "                                     solver='lbfgs', tol=0.0001, verbose=0,\n",
       "                                     warm_start=False))],\n",
       "          verbose=False),\n",
       " '../models/spam_classification_model_rf_v1.pkl')"
      ]
     },
     "execution_count": 36,
     "metadata": {},
     "output_type": "execute_result"
    }
   ],
   "source": [
    "\n",
    "# Saving the final model\n",
    "save_model(final_model, '../models/spam_classification_model_rf_v1')"
   ]
  },
  {
   "cell_type": "markdown",
   "metadata": {},
   "source": [
    "# 4.- Mejorando los hyperparametros del modelo RF"
   ]
  },
  {
   "cell_type": "code",
   "execution_count": 37,
   "metadata": {},
   "outputs": [
    {
     "data": {
      "text/html": [
       "<div>\n",
       "<style scoped>\n",
       "    .dataframe tbody tr th:only-of-type {\n",
       "        vertical-align: middle;\n",
       "    }\n",
       "\n",
       "    .dataframe tbody tr th {\n",
       "        vertical-align: top;\n",
       "    }\n",
       "\n",
       "    .dataframe thead th {\n",
       "        text-align: right;\n",
       "    }\n",
       "</style>\n",
       "<table border=\"1\" class=\"dataframe\">\n",
       "  <thead>\n",
       "    <tr style=\"text-align: right;\">\n",
       "      <th></th>\n",
       "      <th>text</th>\n",
       "      <th>label_num</th>\n",
       "    </tr>\n",
       "    <tr>\n",
       "      <th>Unnamed: 0</th>\n",
       "      <th></th>\n",
       "      <th></th>\n",
       "    </tr>\n",
       "  </thead>\n",
       "  <tbody>\n",
       "    <tr>\n",
       "      <th>2924</th>\n",
       "      <td>subject hpl nom for march 30 2001 see attached...</td>\n",
       "      <td>0</td>\n",
       "    </tr>\n",
       "    <tr>\n",
       "      <th>3839</th>\n",
       "      <td>subject online pharxmacy 80 off all meds dissc...</td>\n",
       "      <td>1</td>\n",
       "    </tr>\n",
       "    <tr>\n",
       "      <th>3078</th>\n",
       "      <td>subject re nom actual volume for april 17 th w...</td>\n",
       "      <td>0</td>\n",
       "    </tr>\n",
       "    <tr>\n",
       "      <th>497</th>\n",
       "      <td>subject re meter 8740 dec 99 robert and i put ...</td>\n",
       "      <td>0</td>\n",
       "    </tr>\n",
       "    <tr>\n",
       "      <th>1287</th>\n",
       "      <td>subject re coastal oil gas corporation melissa...</td>\n",
       "      <td>0</td>\n",
       "    </tr>\n",
       "  </tbody>\n",
       "</table>\n",
       "</div>"
      ],
      "text/plain": [
       "                                                         text  label_num\n",
       "Unnamed: 0                                                              \n",
       "2924        subject hpl nom for march 30 2001 see attached...          0\n",
       "3839        subject online pharxmacy 80 off all meds dissc...          1\n",
       "3078        subject re nom actual volume for april 17 th w...          0\n",
       "497         subject re meter 8740 dec 99 robert and i put ...          0\n",
       "1287        subject re coastal oil gas corporation melissa...          0"
      ]
     },
     "execution_count": 37,
     "metadata": {},
     "output_type": "execute_result"
    }
   ],
   "source": [
    "df_target_test.head()"
   ]
  },
  {
   "cell_type": "code",
   "execution_count": 47,
   "metadata": {},
   "outputs": [],
   "source": [
    "t1 = df_target_test.iloc[0, 0]"
   ]
  },
  {
   "cell_type": "code",
   "execution_count": 50,
   "metadata": {},
   "outputs": [],
   "source": [
    "res = final_model.predict(df_target_test[['text']])"
   ]
  },
  {
   "cell_type": "code",
   "execution_count": 61,
   "metadata": {},
   "outputs": [
    {
     "data": {
      "text/plain": [
       "1293"
      ]
     },
     "execution_count": 61,
     "metadata": {},
     "output_type": "execute_result"
    }
   ],
   "source": [
    "# Para dataset de test el modelo tiene una precisión del 100%\n",
    "df_target_test[df_target_test[\"label_num\"] == res].value_counts().sum()"
   ]
  },
  {
   "cell_type": "code",
   "execution_count": 60,
   "metadata": {},
   "outputs": [
    {
     "data": {
      "text/plain": [
       "0"
      ]
     },
     "execution_count": 60,
     "metadata": {},
     "output_type": "execute_result"
    }
   ],
   "source": [
    "df_target_test[df_target_test[\"label_num\"] != res].value_counts().sum()"
   ]
  },
  {
   "cell_type": "code",
   "execution_count": 63,
   "metadata": {},
   "outputs": [
    {
     "data": {
      "text/html": [],
      "text/plain": [
       "<IPython.core.display.HTML object>"
      ]
     },
     "metadata": {},
     "output_type": "display_data"
    },
    {
     "data": {
      "text/html": [
       "<style type=\"text/css\">\n",
       "#T_85940_row10_col0, #T_85940_row10_col1, #T_85940_row10_col2, #T_85940_row10_col3, #T_85940_row10_col4, #T_85940_row10_col5, #T_85940_row10_col6 {\n",
       "  background: yellow;\n",
       "}\n",
       "</style>\n",
       "<table id=\"T_85940\">\n",
       "  <thead>\n",
       "    <tr>\n",
       "      <th class=\"blank level0\" >&nbsp;</th>\n",
       "      <th id=\"T_85940_level0_col0\" class=\"col_heading level0 col0\" >Accuracy</th>\n",
       "      <th id=\"T_85940_level0_col1\" class=\"col_heading level0 col1\" >AUC</th>\n",
       "      <th id=\"T_85940_level0_col2\" class=\"col_heading level0 col2\" >Recall</th>\n",
       "      <th id=\"T_85940_level0_col3\" class=\"col_heading level0 col3\" >Prec.</th>\n",
       "      <th id=\"T_85940_level0_col4\" class=\"col_heading level0 col4\" >F1</th>\n",
       "      <th id=\"T_85940_level0_col5\" class=\"col_heading level0 col5\" >Kappa</th>\n",
       "      <th id=\"T_85940_level0_col6\" class=\"col_heading level0 col6\" >MCC</th>\n",
       "    </tr>\n",
       "    <tr>\n",
       "      <th class=\"index_name level0\" >Fold</th>\n",
       "      <th class=\"blank col0\" >&nbsp;</th>\n",
       "      <th class=\"blank col1\" >&nbsp;</th>\n",
       "      <th class=\"blank col2\" >&nbsp;</th>\n",
       "      <th class=\"blank col3\" >&nbsp;</th>\n",
       "      <th class=\"blank col4\" >&nbsp;</th>\n",
       "      <th class=\"blank col5\" >&nbsp;</th>\n",
       "      <th class=\"blank col6\" >&nbsp;</th>\n",
       "    </tr>\n",
       "  </thead>\n",
       "  <tbody>\n",
       "    <tr>\n",
       "      <th id=\"T_85940_level0_row0\" class=\"row_heading level0 row0\" >0</th>\n",
       "      <td id=\"T_85940_row0_col0\" class=\"data row0 col0\" >0.7165</td>\n",
       "      <td id=\"T_85940_row0_col1\" class=\"data row0 col1\" >0.5580</td>\n",
       "      <td id=\"T_85940_row0_col2\" class=\"data row0 col2\" >0.0351</td>\n",
       "      <td id=\"T_85940_row0_col3\" class=\"data row0 col3\" >1.0000</td>\n",
       "      <td id=\"T_85940_row0_col4\" class=\"data row0 col4\" >0.0678</td>\n",
       "      <td id=\"T_85940_row0_col5\" class=\"data row0 col5\" >0.0489</td>\n",
       "      <td id=\"T_85940_row0_col6\" class=\"data row0 col6\" >0.1582</td>\n",
       "    </tr>\n",
       "    <tr>\n",
       "      <th id=\"T_85940_level0_row1\" class=\"row_heading level0 row1\" >1</th>\n",
       "      <td id=\"T_85940_row1_col0\" class=\"data row1 col0\" >0.7216</td>\n",
       "      <td id=\"T_85940_row1_col1\" class=\"data row1 col1\" >0.5661</td>\n",
       "      <td id=\"T_85940_row1_col2\" class=\"data row1 col2\" >0.0526</td>\n",
       "      <td id=\"T_85940_row1_col3\" class=\"data row1 col3\" >1.0000</td>\n",
       "      <td id=\"T_85940_row1_col4\" class=\"data row1 col4\" >0.1000</td>\n",
       "      <td id=\"T_85940_row1_col5\" class=\"data row1 col5\" >0.0728</td>\n",
       "      <td id=\"T_85940_row1_col6\" class=\"data row1 col6\" >0.1943</td>\n",
       "    </tr>\n",
       "    <tr>\n",
       "      <th id=\"T_85940_level0_row2\" class=\"row_heading level0 row2\" >2</th>\n",
       "      <td id=\"T_85940_row2_col0\" class=\"data row2 col0\" >0.7113</td>\n",
       "      <td id=\"T_85940_row2_col1\" class=\"data row2 col1\" >0.5464</td>\n",
       "      <td id=\"T_85940_row2_col2\" class=\"data row2 col2\" >0.0175</td>\n",
       "      <td id=\"T_85940_row2_col3\" class=\"data row2 col3\" >1.0000</td>\n",
       "      <td id=\"T_85940_row2_col4\" class=\"data row2 col4\" >0.0345</td>\n",
       "      <td id=\"T_85940_row2_col5\" class=\"data row2 col5\" >0.0246</td>\n",
       "      <td id=\"T_85940_row2_col6\" class=\"data row2 col6\" >0.1116</td>\n",
       "    </tr>\n",
       "    <tr>\n",
       "      <th id=\"T_85940_level0_row3\" class=\"row_heading level0 row3\" >3</th>\n",
       "      <td id=\"T_85940_row3_col0\" class=\"data row3 col0\" >0.7113</td>\n",
       "      <td id=\"T_85940_row3_col1\" class=\"data row3 col1\" >0.5536</td>\n",
       "      <td id=\"T_85940_row3_col2\" class=\"data row3 col2\" >0.0175</td>\n",
       "      <td id=\"T_85940_row3_col3\" class=\"data row3 col3\" >1.0000</td>\n",
       "      <td id=\"T_85940_row3_col4\" class=\"data row3 col4\" >0.0345</td>\n",
       "      <td id=\"T_85940_row3_col5\" class=\"data row3 col5\" >0.0246</td>\n",
       "      <td id=\"T_85940_row3_col6\" class=\"data row3 col6\" >0.1116</td>\n",
       "    </tr>\n",
       "    <tr>\n",
       "      <th id=\"T_85940_level0_row4\" class=\"row_heading level0 row4\" >4</th>\n",
       "      <td id=\"T_85940_row4_col0\" class=\"data row4 col0\" >0.7191</td>\n",
       "      <td id=\"T_85940_row4_col1\" class=\"data row4 col1\" >0.5551</td>\n",
       "      <td id=\"T_85940_row4_col2\" class=\"data row4 col2\" >0.0439</td>\n",
       "      <td id=\"T_85940_row4_col3\" class=\"data row4 col3\" >1.0000</td>\n",
       "      <td id=\"T_85940_row4_col4\" class=\"data row4 col4\" >0.0840</td>\n",
       "      <td id=\"T_85940_row4_col5\" class=\"data row4 col5\" >0.0608</td>\n",
       "      <td id=\"T_85940_row4_col6\" class=\"data row4 col6\" >0.1771</td>\n",
       "    </tr>\n",
       "    <tr>\n",
       "      <th id=\"T_85940_level0_row5\" class=\"row_heading level0 row5\" >5</th>\n",
       "      <td id=\"T_85940_row5_col0\" class=\"data row5 col0\" >0.7088</td>\n",
       "      <td id=\"T_85940_row5_col1\" class=\"data row5 col1\" >0.5460</td>\n",
       "      <td id=\"T_85940_row5_col2\" class=\"data row5 col2\" >0.0088</td>\n",
       "      <td id=\"T_85940_row5_col3\" class=\"data row5 col3\" >1.0000</td>\n",
       "      <td id=\"T_85940_row5_col4\" class=\"data row5 col4\" >0.0174</td>\n",
       "      <td id=\"T_85940_row5_col5\" class=\"data row5 col5\" >0.0123</td>\n",
       "      <td id=\"T_85940_row5_col6\" class=\"data row5 col6\" >0.0788</td>\n",
       "    </tr>\n",
       "    <tr>\n",
       "      <th id=\"T_85940_level0_row6\" class=\"row_heading level0 row6\" >6</th>\n",
       "      <td id=\"T_85940_row6_col0\" class=\"data row6 col0\" >0.7268</td>\n",
       "      <td id=\"T_85940_row6_col1\" class=\"data row6 col1\" >0.5719</td>\n",
       "      <td id=\"T_85940_row6_col2\" class=\"data row6 col2\" >0.0619</td>\n",
       "      <td id=\"T_85940_row6_col3\" class=\"data row6 col3\" >1.0000</td>\n",
       "      <td id=\"T_85940_row6_col4\" class=\"data row6 col4\" >0.1167</td>\n",
       "      <td id=\"T_85940_row6_col5\" class=\"data row6 col5\" >0.0856</td>\n",
       "      <td id=\"T_85940_row6_col6\" class=\"data row6 col6\" >0.2115</td>\n",
       "    </tr>\n",
       "    <tr>\n",
       "      <th id=\"T_85940_level0_row7\" class=\"row_heading level0 row7\" >7</th>\n",
       "      <td id=\"T_85940_row7_col0\" class=\"data row7 col0\" >0.7165</td>\n",
       "      <td id=\"T_85940_row7_col1\" class=\"data row7 col1\" >0.5504</td>\n",
       "      <td id=\"T_85940_row7_col2\" class=\"data row7 col2\" >0.0265</td>\n",
       "      <td id=\"T_85940_row7_col3\" class=\"data row7 col3\" >1.0000</td>\n",
       "      <td id=\"T_85940_row7_col4\" class=\"data row7 col4\" >0.0517</td>\n",
       "      <td id=\"T_85940_row7_col5\" class=\"data row7 col5\" >0.0372</td>\n",
       "      <td id=\"T_85940_row7_col6\" class=\"data row7 col6\" >0.1377</td>\n",
       "    </tr>\n",
       "    <tr>\n",
       "      <th id=\"T_85940_level0_row8\" class=\"row_heading level0 row8\" >8</th>\n",
       "      <td id=\"T_85940_row8_col0\" class=\"data row8 col0\" >0.7183</td>\n",
       "      <td id=\"T_85940_row8_col1\" class=\"data row8 col1\" >0.5775</td>\n",
       "      <td id=\"T_85940_row8_col2\" class=\"data row8 col2\" >0.0354</td>\n",
       "      <td id=\"T_85940_row8_col3\" class=\"data row8 col3\" >1.0000</td>\n",
       "      <td id=\"T_85940_row8_col4\" class=\"data row8 col4\" >0.0684</td>\n",
       "      <td id=\"T_85940_row8_col5\" class=\"data row8 col5\" >0.0494</td>\n",
       "      <td id=\"T_85940_row8_col6\" class=\"data row8 col6\" >0.1591</td>\n",
       "    </tr>\n",
       "    <tr>\n",
       "      <th id=\"T_85940_level0_row9\" class=\"row_heading level0 row9\" >9</th>\n",
       "      <td id=\"T_85940_row9_col0\" class=\"data row9 col0\" >0.7209</td>\n",
       "      <td id=\"T_85940_row9_col1\" class=\"data row9 col1\" >0.5727</td>\n",
       "      <td id=\"T_85940_row9_col2\" class=\"data row9 col2\" >0.0442</td>\n",
       "      <td id=\"T_85940_row9_col3\" class=\"data row9 col3\" >1.0000</td>\n",
       "      <td id=\"T_85940_row9_col4\" class=\"data row9 col4\" >0.0847</td>\n",
       "      <td id=\"T_85940_row9_col5\" class=\"data row9 col5\" >0.0615</td>\n",
       "      <td id=\"T_85940_row9_col6\" class=\"data row9 col6\" >0.1782</td>\n",
       "    </tr>\n",
       "    <tr>\n",
       "      <th id=\"T_85940_level0_row10\" class=\"row_heading level0 row10\" >Mean</th>\n",
       "      <td id=\"T_85940_row10_col0\" class=\"data row10 col0\" >0.7171</td>\n",
       "      <td id=\"T_85940_row10_col1\" class=\"data row10 col1\" >0.5598</td>\n",
       "      <td id=\"T_85940_row10_col2\" class=\"data row10 col2\" >0.0344</td>\n",
       "      <td id=\"T_85940_row10_col3\" class=\"data row10 col3\" >1.0000</td>\n",
       "      <td id=\"T_85940_row10_col4\" class=\"data row10 col4\" >0.0660</td>\n",
       "      <td id=\"T_85940_row10_col5\" class=\"data row10 col5\" >0.0478</td>\n",
       "      <td id=\"T_85940_row10_col6\" class=\"data row10 col6\" >0.1518</td>\n",
       "    </tr>\n",
       "    <tr>\n",
       "      <th id=\"T_85940_level0_row11\" class=\"row_heading level0 row11\" >Std</th>\n",
       "      <td id=\"T_85940_row11_col0\" class=\"data row11 col0\" >0.0052</td>\n",
       "      <td id=\"T_85940_row11_col1\" class=\"data row11 col1\" >0.0109</td>\n",
       "      <td id=\"T_85940_row11_col2\" class=\"data row11 col2\" >0.0160</td>\n",
       "      <td id=\"T_85940_row11_col3\" class=\"data row11 col3\" >0.0000</td>\n",
       "      <td id=\"T_85940_row11_col4\" class=\"data row11 col4\" >0.0299</td>\n",
       "      <td id=\"T_85940_row11_col5\" class=\"data row11 col5\" >0.0220</td>\n",
       "      <td id=\"T_85940_row11_col6\" class=\"data row11 col6\" >0.0394</td>\n",
       "    </tr>\n",
       "  </tbody>\n",
       "</table>\n"
      ],
      "text/plain": [
       "<pandas.io.formats.style.Styler at 0x7f47c32f2e80>"
      ]
     },
     "metadata": {},
     "output_type": "display_data"
    },
    {
     "data": {
      "application/vnd.jupyter.widget-view+json": {
       "model_id": "34a8a5bda9c545cb811529821c67c49d",
       "version_major": 2,
       "version_minor": 0
      },
      "text/plain": [
       "Processing:   0%|          | 0/7 [00:00<?, ?it/s]"
      ]
     },
     "metadata": {},
     "output_type": "display_data"
    },
    {
     "name": "stdout",
     "output_type": "stream",
     "text": [
      "Fitting 10 folds for each of 10 candidates, totalling 100 fits\n",
      "Original model was better than the tuned model, hence it will be returned. NOTE: The display metrics are for the tuned model (not the original one).\n"
     ]
    },
    {
     "data": {
      "application/vnd.jupyter.widget-view+json": {
       "model_id": "10537238eeac441cacb509a36ecd7528",
       "version_major": 2,
       "version_minor": 0
      },
      "text/plain": [
       "interactive(children=(ToggleButtons(description='Plot Type:', icons=('',), options=(('Pipeline Plot', 'pipelin…"
      ]
     },
     "metadata": {},
     "output_type": "display_data"
    }
   ],
   "source": [
    "from sklearn.linear_model import LogisticRegression\n",
    "\n",
    "# Define the parameter grid\n",
    "param_grid = {\n",
    "    'C': [0.1, 1, 10, 0.01],\n",
    "    'penalty': ['l1', 'l2'],\n",
    "    'solver': ['liblinear', 'saga']\n",
    "}\n",
    "\n",
    "# Create a base model using create_model()\n",
    "# base_model = create_model('lr')\n",
    "\n",
    "# Tune the model using tune_model() and pass the parameter grid\n",
    "tuned_model = tune_model(final_model, custom_grid=param_grid)\n",
    "\n",
    "# Evaluate the tuned model\n",
    "evaluate_model(tuned_model)\n",
    "\n",
    "\n",
    "# Finalizar el modelo ajustado\n",
    "rf_grid = finalize_model(tuned_model)\n"
   ]
  },
  {
   "cell_type": "code",
   "execution_count": 73,
   "metadata": {},
   "outputs": [
    {
     "data": {
      "text/html": [],
      "text/plain": [
       "<IPython.core.display.HTML object>"
      ]
     },
     "metadata": {},
     "output_type": "display_data"
    },
    {
     "data": {
      "text/html": [
       "<style type=\"text/css\">\n",
       "#T_4d338_row10_col0, #T_4d338_row10_col1, #T_4d338_row10_col2, #T_4d338_row10_col3, #T_4d338_row10_col4, #T_4d338_row10_col5, #T_4d338_row10_col6 {\n",
       "  background: yellow;\n",
       "}\n",
       "</style>\n",
       "<table id=\"T_4d338\">\n",
       "  <thead>\n",
       "    <tr>\n",
       "      <th class=\"blank level0\" >&nbsp;</th>\n",
       "      <th id=\"T_4d338_level0_col0\" class=\"col_heading level0 col0\" >Accuracy</th>\n",
       "      <th id=\"T_4d338_level0_col1\" class=\"col_heading level0 col1\" >AUC</th>\n",
       "      <th id=\"T_4d338_level0_col2\" class=\"col_heading level0 col2\" >Recall</th>\n",
       "      <th id=\"T_4d338_level0_col3\" class=\"col_heading level0 col3\" >Prec.</th>\n",
       "      <th id=\"T_4d338_level0_col4\" class=\"col_heading level0 col4\" >F1</th>\n",
       "      <th id=\"T_4d338_level0_col5\" class=\"col_heading level0 col5\" >Kappa</th>\n",
       "      <th id=\"T_4d338_level0_col6\" class=\"col_heading level0 col6\" >MCC</th>\n",
       "    </tr>\n",
       "    <tr>\n",
       "      <th class=\"index_name level0\" >Fold</th>\n",
       "      <th class=\"blank col0\" >&nbsp;</th>\n",
       "      <th class=\"blank col1\" >&nbsp;</th>\n",
       "      <th class=\"blank col2\" >&nbsp;</th>\n",
       "      <th class=\"blank col3\" >&nbsp;</th>\n",
       "      <th class=\"blank col4\" >&nbsp;</th>\n",
       "      <th class=\"blank col5\" >&nbsp;</th>\n",
       "      <th class=\"blank col6\" >&nbsp;</th>\n",
       "    </tr>\n",
       "  </thead>\n",
       "  <tbody>\n",
       "    <tr>\n",
       "      <th id=\"T_4d338_level0_row0\" class=\"row_heading level0 row0\" >0</th>\n",
       "      <td id=\"T_4d338_row0_col0\" class=\"data row0 col0\" >0.7165</td>\n",
       "      <td id=\"T_4d338_row0_col1\" class=\"data row0 col1\" >0.5580</td>\n",
       "      <td id=\"T_4d338_row0_col2\" class=\"data row0 col2\" >0.0351</td>\n",
       "      <td id=\"T_4d338_row0_col3\" class=\"data row0 col3\" >1.0000</td>\n",
       "      <td id=\"T_4d338_row0_col4\" class=\"data row0 col4\" >0.0678</td>\n",
       "      <td id=\"T_4d338_row0_col5\" class=\"data row0 col5\" >0.0489</td>\n",
       "      <td id=\"T_4d338_row0_col6\" class=\"data row0 col6\" >0.1582</td>\n",
       "    </tr>\n",
       "    <tr>\n",
       "      <th id=\"T_4d338_level0_row1\" class=\"row_heading level0 row1\" >1</th>\n",
       "      <td id=\"T_4d338_row1_col0\" class=\"data row1 col0\" >0.7216</td>\n",
       "      <td id=\"T_4d338_row1_col1\" class=\"data row1 col1\" >0.5661</td>\n",
       "      <td id=\"T_4d338_row1_col2\" class=\"data row1 col2\" >0.0526</td>\n",
       "      <td id=\"T_4d338_row1_col3\" class=\"data row1 col3\" >1.0000</td>\n",
       "      <td id=\"T_4d338_row1_col4\" class=\"data row1 col4\" >0.1000</td>\n",
       "      <td id=\"T_4d338_row1_col5\" class=\"data row1 col5\" >0.0728</td>\n",
       "      <td id=\"T_4d338_row1_col6\" class=\"data row1 col6\" >0.1943</td>\n",
       "    </tr>\n",
       "    <tr>\n",
       "      <th id=\"T_4d338_level0_row2\" class=\"row_heading level0 row2\" >2</th>\n",
       "      <td id=\"T_4d338_row2_col0\" class=\"data row2 col0\" >0.7113</td>\n",
       "      <td id=\"T_4d338_row2_col1\" class=\"data row2 col1\" >0.5464</td>\n",
       "      <td id=\"T_4d338_row2_col2\" class=\"data row2 col2\" >0.0175</td>\n",
       "      <td id=\"T_4d338_row2_col3\" class=\"data row2 col3\" >1.0000</td>\n",
       "      <td id=\"T_4d338_row2_col4\" class=\"data row2 col4\" >0.0345</td>\n",
       "      <td id=\"T_4d338_row2_col5\" class=\"data row2 col5\" >0.0246</td>\n",
       "      <td id=\"T_4d338_row2_col6\" class=\"data row2 col6\" >0.1116</td>\n",
       "    </tr>\n",
       "    <tr>\n",
       "      <th id=\"T_4d338_level0_row3\" class=\"row_heading level0 row3\" >3</th>\n",
       "      <td id=\"T_4d338_row3_col0\" class=\"data row3 col0\" >0.7113</td>\n",
       "      <td id=\"T_4d338_row3_col1\" class=\"data row3 col1\" >0.5536</td>\n",
       "      <td id=\"T_4d338_row3_col2\" class=\"data row3 col2\" >0.0175</td>\n",
       "      <td id=\"T_4d338_row3_col3\" class=\"data row3 col3\" >1.0000</td>\n",
       "      <td id=\"T_4d338_row3_col4\" class=\"data row3 col4\" >0.0345</td>\n",
       "      <td id=\"T_4d338_row3_col5\" class=\"data row3 col5\" >0.0246</td>\n",
       "      <td id=\"T_4d338_row3_col6\" class=\"data row3 col6\" >0.1116</td>\n",
       "    </tr>\n",
       "    <tr>\n",
       "      <th id=\"T_4d338_level0_row4\" class=\"row_heading level0 row4\" >4</th>\n",
       "      <td id=\"T_4d338_row4_col0\" class=\"data row4 col0\" >0.7191</td>\n",
       "      <td id=\"T_4d338_row4_col1\" class=\"data row4 col1\" >0.5551</td>\n",
       "      <td id=\"T_4d338_row4_col2\" class=\"data row4 col2\" >0.0439</td>\n",
       "      <td id=\"T_4d338_row4_col3\" class=\"data row4 col3\" >1.0000</td>\n",
       "      <td id=\"T_4d338_row4_col4\" class=\"data row4 col4\" >0.0840</td>\n",
       "      <td id=\"T_4d338_row4_col5\" class=\"data row4 col5\" >0.0608</td>\n",
       "      <td id=\"T_4d338_row4_col6\" class=\"data row4 col6\" >0.1771</td>\n",
       "    </tr>\n",
       "    <tr>\n",
       "      <th id=\"T_4d338_level0_row5\" class=\"row_heading level0 row5\" >5</th>\n",
       "      <td id=\"T_4d338_row5_col0\" class=\"data row5 col0\" >0.7088</td>\n",
       "      <td id=\"T_4d338_row5_col1\" class=\"data row5 col1\" >0.5460</td>\n",
       "      <td id=\"T_4d338_row5_col2\" class=\"data row5 col2\" >0.0088</td>\n",
       "      <td id=\"T_4d338_row5_col3\" class=\"data row5 col3\" >1.0000</td>\n",
       "      <td id=\"T_4d338_row5_col4\" class=\"data row5 col4\" >0.0174</td>\n",
       "      <td id=\"T_4d338_row5_col5\" class=\"data row5 col5\" >0.0123</td>\n",
       "      <td id=\"T_4d338_row5_col6\" class=\"data row5 col6\" >0.0788</td>\n",
       "    </tr>\n",
       "    <tr>\n",
       "      <th id=\"T_4d338_level0_row6\" class=\"row_heading level0 row6\" >6</th>\n",
       "      <td id=\"T_4d338_row6_col0\" class=\"data row6 col0\" >0.7268</td>\n",
       "      <td id=\"T_4d338_row6_col1\" class=\"data row6 col1\" >0.5719</td>\n",
       "      <td id=\"T_4d338_row6_col2\" class=\"data row6 col2\" >0.0619</td>\n",
       "      <td id=\"T_4d338_row6_col3\" class=\"data row6 col3\" >1.0000</td>\n",
       "      <td id=\"T_4d338_row6_col4\" class=\"data row6 col4\" >0.1167</td>\n",
       "      <td id=\"T_4d338_row6_col5\" class=\"data row6 col5\" >0.0856</td>\n",
       "      <td id=\"T_4d338_row6_col6\" class=\"data row6 col6\" >0.2115</td>\n",
       "    </tr>\n",
       "    <tr>\n",
       "      <th id=\"T_4d338_level0_row7\" class=\"row_heading level0 row7\" >7</th>\n",
       "      <td id=\"T_4d338_row7_col0\" class=\"data row7 col0\" >0.7165</td>\n",
       "      <td id=\"T_4d338_row7_col1\" class=\"data row7 col1\" >0.5504</td>\n",
       "      <td id=\"T_4d338_row7_col2\" class=\"data row7 col2\" >0.0265</td>\n",
       "      <td id=\"T_4d338_row7_col3\" class=\"data row7 col3\" >1.0000</td>\n",
       "      <td id=\"T_4d338_row7_col4\" class=\"data row7 col4\" >0.0517</td>\n",
       "      <td id=\"T_4d338_row7_col5\" class=\"data row7 col5\" >0.0372</td>\n",
       "      <td id=\"T_4d338_row7_col6\" class=\"data row7 col6\" >0.1377</td>\n",
       "    </tr>\n",
       "    <tr>\n",
       "      <th id=\"T_4d338_level0_row8\" class=\"row_heading level0 row8\" >8</th>\n",
       "      <td id=\"T_4d338_row8_col0\" class=\"data row8 col0\" >0.7183</td>\n",
       "      <td id=\"T_4d338_row8_col1\" class=\"data row8 col1\" >0.5775</td>\n",
       "      <td id=\"T_4d338_row8_col2\" class=\"data row8 col2\" >0.0354</td>\n",
       "      <td id=\"T_4d338_row8_col3\" class=\"data row8 col3\" >1.0000</td>\n",
       "      <td id=\"T_4d338_row8_col4\" class=\"data row8 col4\" >0.0684</td>\n",
       "      <td id=\"T_4d338_row8_col5\" class=\"data row8 col5\" >0.0494</td>\n",
       "      <td id=\"T_4d338_row8_col6\" class=\"data row8 col6\" >0.1591</td>\n",
       "    </tr>\n",
       "    <tr>\n",
       "      <th id=\"T_4d338_level0_row9\" class=\"row_heading level0 row9\" >9</th>\n",
       "      <td id=\"T_4d338_row9_col0\" class=\"data row9 col0\" >0.7209</td>\n",
       "      <td id=\"T_4d338_row9_col1\" class=\"data row9 col1\" >0.5727</td>\n",
       "      <td id=\"T_4d338_row9_col2\" class=\"data row9 col2\" >0.0442</td>\n",
       "      <td id=\"T_4d338_row9_col3\" class=\"data row9 col3\" >1.0000</td>\n",
       "      <td id=\"T_4d338_row9_col4\" class=\"data row9 col4\" >0.0847</td>\n",
       "      <td id=\"T_4d338_row9_col5\" class=\"data row9 col5\" >0.0615</td>\n",
       "      <td id=\"T_4d338_row9_col6\" class=\"data row9 col6\" >0.1782</td>\n",
       "    </tr>\n",
       "    <tr>\n",
       "      <th id=\"T_4d338_level0_row10\" class=\"row_heading level0 row10\" >Mean</th>\n",
       "      <td id=\"T_4d338_row10_col0\" class=\"data row10 col0\" >0.7171</td>\n",
       "      <td id=\"T_4d338_row10_col1\" class=\"data row10 col1\" >0.5598</td>\n",
       "      <td id=\"T_4d338_row10_col2\" class=\"data row10 col2\" >0.0344</td>\n",
       "      <td id=\"T_4d338_row10_col3\" class=\"data row10 col3\" >1.0000</td>\n",
       "      <td id=\"T_4d338_row10_col4\" class=\"data row10 col4\" >0.0660</td>\n",
       "      <td id=\"T_4d338_row10_col5\" class=\"data row10 col5\" >0.0478</td>\n",
       "      <td id=\"T_4d338_row10_col6\" class=\"data row10 col6\" >0.1518</td>\n",
       "    </tr>\n",
       "    <tr>\n",
       "      <th id=\"T_4d338_level0_row11\" class=\"row_heading level0 row11\" >Std</th>\n",
       "      <td id=\"T_4d338_row11_col0\" class=\"data row11 col0\" >0.0052</td>\n",
       "      <td id=\"T_4d338_row11_col1\" class=\"data row11 col1\" >0.0109</td>\n",
       "      <td id=\"T_4d338_row11_col2\" class=\"data row11 col2\" >0.0160</td>\n",
       "      <td id=\"T_4d338_row11_col3\" class=\"data row11 col3\" >0.0000</td>\n",
       "      <td id=\"T_4d338_row11_col4\" class=\"data row11 col4\" >0.0299</td>\n",
       "      <td id=\"T_4d338_row11_col5\" class=\"data row11 col5\" >0.0220</td>\n",
       "      <td id=\"T_4d338_row11_col6\" class=\"data row11 col6\" >0.0394</td>\n",
       "    </tr>\n",
       "  </tbody>\n",
       "</table>\n"
      ],
      "text/plain": [
       "<pandas.io.formats.style.Styler at 0x7f47c08ead30>"
      ]
     },
     "metadata": {},
     "output_type": "display_data"
    },
    {
     "data": {
      "text/html": [],
      "text/plain": [
       "<IPython.core.display.HTML object>"
      ]
     },
     "metadata": {},
     "output_type": "display_data"
    },
    {
     "data": {
      "text/html": [],
      "text/plain": [
       "<IPython.core.display.HTML object>"
      ]
     },
     "metadata": {},
     "output_type": "display_data"
    },
    {
     "data": {
      "text/html": [
       "<style type=\"text/css\">\n",
       "#T_5df4b_row10_col0, #T_5df4b_row10_col1, #T_5df4b_row10_col2, #T_5df4b_row10_col3, #T_5df4b_row10_col4, #T_5df4b_row10_col5, #T_5df4b_row10_col6 {\n",
       "  background: yellow;\n",
       "}\n",
       "</style>\n",
       "<table id=\"T_5df4b\">\n",
       "  <thead>\n",
       "    <tr>\n",
       "      <th class=\"blank level0\" >&nbsp;</th>\n",
       "      <th id=\"T_5df4b_level0_col0\" class=\"col_heading level0 col0\" >Accuracy</th>\n",
       "      <th id=\"T_5df4b_level0_col1\" class=\"col_heading level0 col1\" >AUC</th>\n",
       "      <th id=\"T_5df4b_level0_col2\" class=\"col_heading level0 col2\" >Recall</th>\n",
       "      <th id=\"T_5df4b_level0_col3\" class=\"col_heading level0 col3\" >Prec.</th>\n",
       "      <th id=\"T_5df4b_level0_col4\" class=\"col_heading level0 col4\" >F1</th>\n",
       "      <th id=\"T_5df4b_level0_col5\" class=\"col_heading level0 col5\" >Kappa</th>\n",
       "      <th id=\"T_5df4b_level0_col6\" class=\"col_heading level0 col6\" >MCC</th>\n",
       "    </tr>\n",
       "    <tr>\n",
       "      <th class=\"index_name level0\" >Fold</th>\n",
       "      <th class=\"blank col0\" >&nbsp;</th>\n",
       "      <th class=\"blank col1\" >&nbsp;</th>\n",
       "      <th class=\"blank col2\" >&nbsp;</th>\n",
       "      <th class=\"blank col3\" >&nbsp;</th>\n",
       "      <th class=\"blank col4\" >&nbsp;</th>\n",
       "      <th class=\"blank col5\" >&nbsp;</th>\n",
       "      <th class=\"blank col6\" >&nbsp;</th>\n",
       "    </tr>\n",
       "  </thead>\n",
       "  <tbody>\n",
       "    <tr>\n",
       "      <th id=\"T_5df4b_level0_row0\" class=\"row_heading level0 row0\" >0</th>\n",
       "      <td id=\"T_5df4b_row0_col0\" class=\"data row0 col0\" >0.7165</td>\n",
       "      <td id=\"T_5df4b_row0_col1\" class=\"data row0 col1\" >0.5580</td>\n",
       "      <td id=\"T_5df4b_row0_col2\" class=\"data row0 col2\" >0.0351</td>\n",
       "      <td id=\"T_5df4b_row0_col3\" class=\"data row0 col3\" >1.0000</td>\n",
       "      <td id=\"T_5df4b_row0_col4\" class=\"data row0 col4\" >0.0678</td>\n",
       "      <td id=\"T_5df4b_row0_col5\" class=\"data row0 col5\" >0.0489</td>\n",
       "      <td id=\"T_5df4b_row0_col6\" class=\"data row0 col6\" >0.1582</td>\n",
       "    </tr>\n",
       "    <tr>\n",
       "      <th id=\"T_5df4b_level0_row1\" class=\"row_heading level0 row1\" >1</th>\n",
       "      <td id=\"T_5df4b_row1_col0\" class=\"data row1 col0\" >0.7216</td>\n",
       "      <td id=\"T_5df4b_row1_col1\" class=\"data row1 col1\" >0.5661</td>\n",
       "      <td id=\"T_5df4b_row1_col2\" class=\"data row1 col2\" >0.0526</td>\n",
       "      <td id=\"T_5df4b_row1_col3\" class=\"data row1 col3\" >1.0000</td>\n",
       "      <td id=\"T_5df4b_row1_col4\" class=\"data row1 col4\" >0.1000</td>\n",
       "      <td id=\"T_5df4b_row1_col5\" class=\"data row1 col5\" >0.0728</td>\n",
       "      <td id=\"T_5df4b_row1_col6\" class=\"data row1 col6\" >0.1943</td>\n",
       "    </tr>\n",
       "    <tr>\n",
       "      <th id=\"T_5df4b_level0_row2\" class=\"row_heading level0 row2\" >2</th>\n",
       "      <td id=\"T_5df4b_row2_col0\" class=\"data row2 col0\" >0.7113</td>\n",
       "      <td id=\"T_5df4b_row2_col1\" class=\"data row2 col1\" >0.5464</td>\n",
       "      <td id=\"T_5df4b_row2_col2\" class=\"data row2 col2\" >0.0175</td>\n",
       "      <td id=\"T_5df4b_row2_col3\" class=\"data row2 col3\" >1.0000</td>\n",
       "      <td id=\"T_5df4b_row2_col4\" class=\"data row2 col4\" >0.0345</td>\n",
       "      <td id=\"T_5df4b_row2_col5\" class=\"data row2 col5\" >0.0246</td>\n",
       "      <td id=\"T_5df4b_row2_col6\" class=\"data row2 col6\" >0.1116</td>\n",
       "    </tr>\n",
       "    <tr>\n",
       "      <th id=\"T_5df4b_level0_row3\" class=\"row_heading level0 row3\" >3</th>\n",
       "      <td id=\"T_5df4b_row3_col0\" class=\"data row3 col0\" >0.7113</td>\n",
       "      <td id=\"T_5df4b_row3_col1\" class=\"data row3 col1\" >0.5536</td>\n",
       "      <td id=\"T_5df4b_row3_col2\" class=\"data row3 col2\" >0.0175</td>\n",
       "      <td id=\"T_5df4b_row3_col3\" class=\"data row3 col3\" >1.0000</td>\n",
       "      <td id=\"T_5df4b_row3_col4\" class=\"data row3 col4\" >0.0345</td>\n",
       "      <td id=\"T_5df4b_row3_col5\" class=\"data row3 col5\" >0.0246</td>\n",
       "      <td id=\"T_5df4b_row3_col6\" class=\"data row3 col6\" >0.1116</td>\n",
       "    </tr>\n",
       "    <tr>\n",
       "      <th id=\"T_5df4b_level0_row4\" class=\"row_heading level0 row4\" >4</th>\n",
       "      <td id=\"T_5df4b_row4_col0\" class=\"data row4 col0\" >0.7191</td>\n",
       "      <td id=\"T_5df4b_row4_col1\" class=\"data row4 col1\" >0.5551</td>\n",
       "      <td id=\"T_5df4b_row4_col2\" class=\"data row4 col2\" >0.0439</td>\n",
       "      <td id=\"T_5df4b_row4_col3\" class=\"data row4 col3\" >1.0000</td>\n",
       "      <td id=\"T_5df4b_row4_col4\" class=\"data row4 col4\" >0.0840</td>\n",
       "      <td id=\"T_5df4b_row4_col5\" class=\"data row4 col5\" >0.0608</td>\n",
       "      <td id=\"T_5df4b_row4_col6\" class=\"data row4 col6\" >0.1771</td>\n",
       "    </tr>\n",
       "    <tr>\n",
       "      <th id=\"T_5df4b_level0_row5\" class=\"row_heading level0 row5\" >5</th>\n",
       "      <td id=\"T_5df4b_row5_col0\" class=\"data row5 col0\" >0.7088</td>\n",
       "      <td id=\"T_5df4b_row5_col1\" class=\"data row5 col1\" >0.5460</td>\n",
       "      <td id=\"T_5df4b_row5_col2\" class=\"data row5 col2\" >0.0088</td>\n",
       "      <td id=\"T_5df4b_row5_col3\" class=\"data row5 col3\" >1.0000</td>\n",
       "      <td id=\"T_5df4b_row5_col4\" class=\"data row5 col4\" >0.0174</td>\n",
       "      <td id=\"T_5df4b_row5_col5\" class=\"data row5 col5\" >0.0123</td>\n",
       "      <td id=\"T_5df4b_row5_col6\" class=\"data row5 col6\" >0.0788</td>\n",
       "    </tr>\n",
       "    <tr>\n",
       "      <th id=\"T_5df4b_level0_row6\" class=\"row_heading level0 row6\" >6</th>\n",
       "      <td id=\"T_5df4b_row6_col0\" class=\"data row6 col0\" >0.7268</td>\n",
       "      <td id=\"T_5df4b_row6_col1\" class=\"data row6 col1\" >0.5719</td>\n",
       "      <td id=\"T_5df4b_row6_col2\" class=\"data row6 col2\" >0.0619</td>\n",
       "      <td id=\"T_5df4b_row6_col3\" class=\"data row6 col3\" >1.0000</td>\n",
       "      <td id=\"T_5df4b_row6_col4\" class=\"data row6 col4\" >0.1167</td>\n",
       "      <td id=\"T_5df4b_row6_col5\" class=\"data row6 col5\" >0.0856</td>\n",
       "      <td id=\"T_5df4b_row6_col6\" class=\"data row6 col6\" >0.2115</td>\n",
       "    </tr>\n",
       "    <tr>\n",
       "      <th id=\"T_5df4b_level0_row7\" class=\"row_heading level0 row7\" >7</th>\n",
       "      <td id=\"T_5df4b_row7_col0\" class=\"data row7 col0\" >0.7165</td>\n",
       "      <td id=\"T_5df4b_row7_col1\" class=\"data row7 col1\" >0.5504</td>\n",
       "      <td id=\"T_5df4b_row7_col2\" class=\"data row7 col2\" >0.0265</td>\n",
       "      <td id=\"T_5df4b_row7_col3\" class=\"data row7 col3\" >1.0000</td>\n",
       "      <td id=\"T_5df4b_row7_col4\" class=\"data row7 col4\" >0.0517</td>\n",
       "      <td id=\"T_5df4b_row7_col5\" class=\"data row7 col5\" >0.0372</td>\n",
       "      <td id=\"T_5df4b_row7_col6\" class=\"data row7 col6\" >0.1377</td>\n",
       "    </tr>\n",
       "    <tr>\n",
       "      <th id=\"T_5df4b_level0_row8\" class=\"row_heading level0 row8\" >8</th>\n",
       "      <td id=\"T_5df4b_row8_col0\" class=\"data row8 col0\" >0.7183</td>\n",
       "      <td id=\"T_5df4b_row8_col1\" class=\"data row8 col1\" >0.5775</td>\n",
       "      <td id=\"T_5df4b_row8_col2\" class=\"data row8 col2\" >0.0354</td>\n",
       "      <td id=\"T_5df4b_row8_col3\" class=\"data row8 col3\" >1.0000</td>\n",
       "      <td id=\"T_5df4b_row8_col4\" class=\"data row8 col4\" >0.0684</td>\n",
       "      <td id=\"T_5df4b_row8_col5\" class=\"data row8 col5\" >0.0494</td>\n",
       "      <td id=\"T_5df4b_row8_col6\" class=\"data row8 col6\" >0.1591</td>\n",
       "    </tr>\n",
       "    <tr>\n",
       "      <th id=\"T_5df4b_level0_row9\" class=\"row_heading level0 row9\" >9</th>\n",
       "      <td id=\"T_5df4b_row9_col0\" class=\"data row9 col0\" >0.7209</td>\n",
       "      <td id=\"T_5df4b_row9_col1\" class=\"data row9 col1\" >0.5727</td>\n",
       "      <td id=\"T_5df4b_row9_col2\" class=\"data row9 col2\" >0.0442</td>\n",
       "      <td id=\"T_5df4b_row9_col3\" class=\"data row9 col3\" >1.0000</td>\n",
       "      <td id=\"T_5df4b_row9_col4\" class=\"data row9 col4\" >0.0847</td>\n",
       "      <td id=\"T_5df4b_row9_col5\" class=\"data row9 col5\" >0.0615</td>\n",
       "      <td id=\"T_5df4b_row9_col6\" class=\"data row9 col6\" >0.1782</td>\n",
       "    </tr>\n",
       "    <tr>\n",
       "      <th id=\"T_5df4b_level0_row10\" class=\"row_heading level0 row10\" >Mean</th>\n",
       "      <td id=\"T_5df4b_row10_col0\" class=\"data row10 col0\" >0.7171</td>\n",
       "      <td id=\"T_5df4b_row10_col1\" class=\"data row10 col1\" >0.5598</td>\n",
       "      <td id=\"T_5df4b_row10_col2\" class=\"data row10 col2\" >0.0344</td>\n",
       "      <td id=\"T_5df4b_row10_col3\" class=\"data row10 col3\" >1.0000</td>\n",
       "      <td id=\"T_5df4b_row10_col4\" class=\"data row10 col4\" >0.0660</td>\n",
       "      <td id=\"T_5df4b_row10_col5\" class=\"data row10 col5\" >0.0478</td>\n",
       "      <td id=\"T_5df4b_row10_col6\" class=\"data row10 col6\" >0.1518</td>\n",
       "    </tr>\n",
       "    <tr>\n",
       "      <th id=\"T_5df4b_level0_row11\" class=\"row_heading level0 row11\" >Std</th>\n",
       "      <td id=\"T_5df4b_row11_col0\" class=\"data row11 col0\" >0.0052</td>\n",
       "      <td id=\"T_5df4b_row11_col1\" class=\"data row11 col1\" >0.0109</td>\n",
       "      <td id=\"T_5df4b_row11_col2\" class=\"data row11 col2\" >0.0160</td>\n",
       "      <td id=\"T_5df4b_row11_col3\" class=\"data row11 col3\" >0.0000</td>\n",
       "      <td id=\"T_5df4b_row11_col4\" class=\"data row11 col4\" >0.0299</td>\n",
       "      <td id=\"T_5df4b_row11_col5\" class=\"data row11 col5\" >0.0220</td>\n",
       "      <td id=\"T_5df4b_row11_col6\" class=\"data row11 col6\" >0.0394</td>\n",
       "    </tr>\n",
       "  </tbody>\n",
       "</table>\n"
      ],
      "text/plain": [
       "<pandas.io.formats.style.Styler at 0x7f47fb527370>"
      ]
     },
     "metadata": {},
     "output_type": "display_data"
    },
    {
     "data": {
      "text/html": [],
      "text/plain": [
       "<IPython.core.display.HTML object>"
      ]
     },
     "metadata": {},
     "output_type": "display_data"
    },
    {
     "name": "stdout",
     "output_type": "stream",
     "text": [
      "Fitting 10 folds for each of 100 candidates, totalling 1000 fits\n",
      "Original model was better than the tuned model, hence it will be returned. NOTE: The display metrics are for the tuned model (not the original one).\n"
     ]
    },
    {
     "data": {
      "application/vnd.jupyter.widget-view+json": {
       "model_id": "f650c4ee5acd454f98535b219d4a9160",
       "version_major": 2,
       "version_minor": 0
      },
      "text/plain": [
       "interactive(children=(ToggleButtons(description='Plot Type:', icons=('',), options=(('Pipeline Plot', 'pipelin…"
      ]
     },
     "metadata": {},
     "output_type": "display_data"
    }
   ],
   "source": [
    "from sklearn.linear_model import LogisticRegression\n",
    "\n",
    "# Define the parameter grid\n",
    "param_grid = {\n",
    "    'C': [0.1, 1, 10, 0.01, 0.001, 100],\n",
    "    'penalty': ['l1', 'l2'],\n",
    "    'solver': ['liblinear', 'saga'],\n",
    "    'class_weight': ['balanced', None],\n",
    "    'n_jobs': [10, 1000, -1],\n",
    "    'max_iter': [1000, 100000]\n",
    "}\n",
    "\n",
    "# Create a base model using create_model()\n",
    "base_model = create_model('lr')\n",
    "\n",
    "# Tune the model using tune_model() and pass the parameter grid\n",
    "tuned_model = tune_model(base_model, custom_grid=param_grid, n_iter=100, optimize='Accuracy')\n",
    "\n",
    "# Evaluate the tuned model\n",
    "evaluate_model(tuned_model)\n",
    "\n",
    "\n",
    "# Finalizar el modelo ajustado\n",
    "rf_grid_base = finalize_model(tuned_model)"
   ]
  },
  {
   "cell_type": "markdown",
   "metadata": {},
   "source": [
    "Lo siguiente será cambiar la forma del procesamiento y en lugar de utilizar los tokens, comparar con una simple limpieza de caracteres raros y que el pipeline haga la limpieza"
   ]
  },
  {
   "cell_type": "code",
   "execution_count": null,
   "metadata": {},
   "outputs": [],
   "source": []
  }
 ],
 "metadata": {
  "kernelspec": {
   "display_name": "api-lector-ine-Cl6CdU-A",
   "language": "python",
   "name": "python3"
  },
  "language_info": {
   "codemirror_mode": {
    "name": "ipython",
    "version": 3
   },
   "file_extension": ".py",
   "mimetype": "text/x-python",
   "name": "python",
   "nbconvert_exporter": "python",
   "pygments_lexer": "ipython3",
   "version": "3.8.18"
  }
 },
 "nbformat": 4,
 "nbformat_minor": 2
}
